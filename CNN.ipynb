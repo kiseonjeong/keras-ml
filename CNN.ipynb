{
  "nbformat": 4,
  "nbformat_minor": 0,
  "metadata": {
    "colab": {
      "name": "CNN.ipynb",
      "provenance": [],
      "collapsed_sections": [],
      "mount_file_id": "1-EJwWbK1jDDtCFqI3iLRu-qf7ZkqCcY7",
      "authorship_tag": "ABX9TyOuJO0vr5e0OuImm5IjVe/X",
      "include_colab_link": true
    },
    "kernelspec": {
      "name": "python3",
      "display_name": "Python 3"
    },
    "language_info": {
      "name": "python"
    },
    "accelerator": "GPU"
  },
  "cells": [
    {
      "cell_type": "markdown",
      "metadata": {
        "id": "view-in-github",
        "colab_type": "text"
      },
      "source": [
        "<a href=\"https://colab.research.google.com/github/kiseonjeong/keras-ml/blob/cnn-cifar10/CNN.ipynb\" target=\"_parent\"><img src=\"https://colab.research.google.com/assets/colab-badge.svg\" alt=\"Open In Colab\"/></a>"
      ]
    },
    {
      "cell_type": "markdown",
      "metadata": {
        "id": "TmqAcm7jNZHB"
      },
      "source": [
        "# MNIST 데이터 분류"
      ]
    },
    {
      "cell_type": "code",
      "metadata": {
        "id": "RAtgeLsmMP0Q"
      },
      "source": [
        "import tensorflow.keras as keras\n",
        "from tensorflow.keras import models, layers\n",
        "from tensorflow.keras import backend"
      ],
      "execution_count": 1,
      "outputs": []
    },
    {
      "cell_type": "code",
      "metadata": {
        "id": "Vp8aUvSHNqdD"
      },
      "source": [
        "# 분류 CNN 모델링\n",
        "class CNN(models.Sequential):\n",
        "    def __init__(self, input_shape, num_classes):\n",
        "        super().__init__()\n",
        "\n",
        "        self.add(layers.Conv2D(32, kernel_size=(3, 3), activation='relu', input_shape=input_shape))\n",
        "        self.add(layers.Conv2D(64, (3, 3), activation='relu'))\n",
        "        self.add(layers.MaxPooling2D(pool_size=(2, 2)))\n",
        "        self.add(layers.Dropout(0.25))\n",
        "        self.add(layers.Flatten())\n",
        "        self.add(layers.Dense(128, activation='relu'))\n",
        "        self.add(layers.Dropout(0.5))\n",
        "        self.add(layers.Dense(num_classes, activation='softmax'))\n",
        "\n",
        "        self.compile(loss=keras.losses.categorical_crossentropy,\n",
        "                     optimizer='rmsprop',\n",
        "                     metrics=['accuracy'])"
      ],
      "execution_count": 2,
      "outputs": []
    },
    {
      "cell_type": "code",
      "metadata": {
        "id": "9V1nn5lQOjGt"
      },
      "source": [
        "from tensorflow.keras import datasets"
      ],
      "execution_count": 3,
      "outputs": []
    },
    {
      "cell_type": "code",
      "metadata": {
        "id": "c9zTnmdTOnY2"
      },
      "source": [
        "class DATA():\n",
        "    def __init__(self):\n",
        "        num_classes = 10\n",
        "\n",
        "        (x_train, y_train), (x_test, y_test) = datasets.mnist.load_data()\n",
        "        img_rows, img_cols = x_train.shape[1:]\n",
        "\n",
        "        if backend.image_data_format() == 'channels_first':\n",
        "            print('image data format : channels_first')\n",
        "            x_train = x_train.reshape(x_train.shape[0], 1, img_rows, img_cols)\n",
        "            x_test = x_test.reshape(x_test.shape[0], 1, img_rows, img.cols)\n",
        "            input_shape = (1, img_rows, img_cols)\n",
        "        else:\n",
        "            print('image data format : channels_last')\n",
        "            x_train = x_train.reshape(x_train.shape[0], img_rows, img_cols, 1)\n",
        "            x_test = x_test.reshape(x_test.shape[0], img_rows, img_cols, 1)\n",
        "            input_shape = (img_rows, img_cols, 1)\n",
        "\n",
        "        x_train = x_train.astype('float32')\n",
        "        x_test = x_test.astype('float32')\n",
        "        x_train /= 255\n",
        "        x_test /= 255\n",
        "\n",
        "        y_train = keras.utils.to_categorical(y_train, num_classes)\n",
        "        y_test = keras.utils.to_categorical(y_test, num_classes)\n",
        "\n",
        "        self.input_shape = input_shape\n",
        "        self.num_classes = num_classes\n",
        "        self.x_train, self.y_train = x_train, y_train\n",
        "        self.x_test, self.y_test = x_test, y_test"
      ],
      "execution_count": 4,
      "outputs": []
    },
    {
      "cell_type": "code",
      "metadata": {
        "id": "MpLIJ5PPPuTS"
      },
      "source": [
        "%run 'drive/MyDrive/Colab Notebooks/Keras/skeras.ipynb'\n",
        "%run 'drive/MyDrive/Colab Notebooks/Keras/sfile.ipynb'"
      ],
      "execution_count": 5,
      "outputs": []
    },
    {
      "cell_type": "code",
      "metadata": {
        "id": "3jmA6hd1P2p_"
      },
      "source": [
        "import matplotlib.pyplot as plt"
      ],
      "execution_count": 6,
      "outputs": []
    },
    {
      "cell_type": "code",
      "metadata": {
        "colab": {
          "base_uri": "https://localhost:8080/",
          "height": 966
        },
        "id": "ZCZZ3uRKP48U",
        "outputId": "1b103590-c3e5-4608-a51c-a467de88b87e"
      },
      "source": [
        "batch_size = 128\n",
        "epochs = 10\n",
        "\n",
        "data = DATA()\n",
        "model = CNN(data.input_shape, data.num_classes)\n",
        "\n",
        "history = model.fit(data.x_train, data.y_train,\n",
        "                    batch_size=batch_size,\n",
        "                    epochs=epochs,\n",
        "                    validation_split=0.2)\n",
        "\n",
        "score = model.evaluate(data.x_test, data.y_test)\n",
        "print()\n",
        "print('Test loss:', score[0])\n",
        "print('Test accuracy:', score[1])\n",
        "\n",
        "plot_acc(history)\n",
        "plt.show()\n",
        "plot_loss(history)\n",
        "plt.show()"
      ],
      "execution_count": 7,
      "outputs": [
        {
          "output_type": "stream",
          "text": [
            "image data format : channels_last\n",
            "Epoch 1/10\n",
            "375/375 [==============================] - 7s 10ms/step - loss: 0.2439 - accuracy: 0.9249 - val_loss: 0.0747 - val_accuracy: 0.9783\n",
            "Epoch 2/10\n",
            "375/375 [==============================] - 3s 9ms/step - loss: 0.0852 - accuracy: 0.9743 - val_loss: 0.0497 - val_accuracy: 0.9858\n",
            "Epoch 3/10\n",
            "375/375 [==============================] - 3s 9ms/step - loss: 0.0648 - accuracy: 0.9811 - val_loss: 0.0455 - val_accuracy: 0.9872\n",
            "Epoch 4/10\n",
            "375/375 [==============================] - 3s 9ms/step - loss: 0.0566 - accuracy: 0.9835 - val_loss: 0.0427 - val_accuracy: 0.9887\n",
            "Epoch 5/10\n",
            "375/375 [==============================] - 3s 9ms/step - loss: 0.0520 - accuracy: 0.9853 - val_loss: 0.0446 - val_accuracy: 0.9872\n",
            "Epoch 6/10\n",
            "375/375 [==============================] - 3s 9ms/step - loss: 0.0497 - accuracy: 0.9857 - val_loss: 0.0411 - val_accuracy: 0.9893\n",
            "Epoch 7/10\n",
            "375/375 [==============================] - 3s 9ms/step - loss: 0.0447 - accuracy: 0.9866 - val_loss: 0.0471 - val_accuracy: 0.9887\n",
            "Epoch 8/10\n",
            "375/375 [==============================] - 3s 9ms/step - loss: 0.0498 - accuracy: 0.9857 - val_loss: 0.0525 - val_accuracy: 0.9889\n",
            "Epoch 9/10\n",
            "375/375 [==============================] - 3s 9ms/step - loss: 0.0464 - accuracy: 0.9867 - val_loss: 0.0555 - val_accuracy: 0.9858\n",
            "Epoch 10/10\n",
            "375/375 [==============================] - 4s 10ms/step - loss: 0.0460 - accuracy: 0.9870 - val_loss: 0.0413 - val_accuracy: 0.9904\n",
            "313/313 [==============================] - 1s 3ms/step - loss: 0.0349 - accuracy: 0.9901\n",
            "\n",
            "Test loss: 0.03488979861140251\n",
            "Test accuracy: 0.9901000261306763\n"
          ],
          "name": "stdout"
        },
        {
          "output_type": "display_data",
          "data": {
            "image/png": "[encoded data removed]",
            "text/plain": [
              "<Figure size 432x288 with 1 Axes>"
            ]
          },
          "metadata": {
            "tags": [],
            "needs_background": "light"
          }
        },
        {
          "output_type": "display_data",
          "data": {
            "image/png": "[encoded data removed]",
            "text/plain": [
              "<Figure size 432x288 with 1 Axes>"
            ]
          },
          "metadata": {
            "tags": [],
            "needs_background": "light"
          }
        }
      ]
    },
    {
      "cell_type": "markdown",
      "metadata": {
        "id": "ZVkdQQMt2J5A"
      },
      "source": [
        "# CIFAR10 데이터 분류"
      ]
    },
    {
      "cell_type": "code",
      "metadata": {
        "id": "ryDL-xJt29jA"
      },
      "source": [
        "from tensorflow.keras import backend as K\n",
        "from tensorflow.keras import utils\n",
        "from tensorflow.keras.models import Model\n",
        "from tensorflow.keras.layers import Input, Conv2D, MaxPooling2D, Flatten, Dense, Dropout"
      ],
      "execution_count": 8,
      "outputs": []
    },
    {
      "cell_type": "code",
      "metadata": {
        "id": "OfMNklLv2gBT"
      },
      "source": [
        "# 분류 CNN 모델링\n",
        "class CNN(Model):\n",
        "    def __init__(model, nb_classes, in_shape=None):\n",
        "        super().__init__()\n",
        "        model.nb_classes = nb_classes\n",
        "        model.in_shape = in_shape\n",
        "        model.build_model()\n",
        "        super().__init__(model.x, model.y)\n",
        "        model.compile()\n",
        "\n",
        "    def build_model(model):\n",
        "        nb_classes = model.nb_classes\n",
        "        in_shape = model.in_shape\n",
        "\n",
        "        x = Input(in_shape)\n",
        "\n",
        "        h = Conv2D(32, kernel_size=(3, 3), activation='relu', input_shape=in_shape)(x)\n",
        "        h = Conv2D(64, (3, 3), activation='relu')(h)\n",
        "        h = MaxPooling2D(pool_size=(2, 2))(h)\n",
        "        h = Dropout(0.25)(h)\n",
        "        h = Flatten()(h)\n",
        "        z_cl = h\n",
        "\n",
        "        h = Dense(128, activation='relu')(h)\n",
        "        h = Dropout(0.5)(h)\n",
        "        z_fl = h\n",
        "\n",
        "        y = Dense(nb_classes, activation='softmax', name='preds')(h)\n",
        "\n",
        "        model.cl_part = Model(x, z_cl)\n",
        "        model.fl_part = Model(x, z_fl)\n",
        "\n",
        "        model.x, model.y = x, y\n",
        "\n",
        "    def compile(model):\n",
        "        Model.compile(model, loss='categorical_crossentropy',\n",
        "                      optimizer='adadelta', metrics=['accuracy'])"
      ],
      "execution_count": 9,
      "outputs": []
    },
    {
      "cell_type": "code",
      "metadata": {
        "id": "bL43jcMj4-zd"
      },
      "source": [
        "from sklearn import model_selection, metrics\n",
        "from sklearn.preprocessing import MinMaxScaler\n",
        "import numpy as np\n",
        "import matplotlib.pyplot as plt\n",
        "import os"
      ],
      "execution_count": 10,
      "outputs": []
    },
    {
      "cell_type": "code",
      "metadata": {
        "id": "OaXBZYEO4n75"
      },
      "source": [
        "# 분류 CNN을 위한 데이터 준비\n",
        "class DataSet:\n",
        "    def __init__(self, X, y, nb_classes, scaling=True,\n",
        "                 test_size=0.2, random_state=0):\n",
        "        self.X = X\n",
        "        self.add_channels()\n",
        "\n",
        "        X = self.X\n",
        "        X_train, X_test, y_train, y_test = model_selection.train_test_split(X, y, test_size=0.2,\n",
        "                                                                            random_state=random_state)\n",
        "        \n",
        "        print(X_train.shape, y_train.shape)\n",
        "\n",
        "        X_train = X_train.astype('float32')\n",
        "        X_test = X_test.astype('float32')\n",
        "\n",
        "        if scaling:\n",
        "            scaler = MinMaxScaler()\n",
        "            n = X_train.shape[0]\n",
        "            X_train = scaler.fit_transform(X_train.reshape(n, -1)).reshape(X_train.shape)\n",
        "            n = X_test.shape[0]\n",
        "            X_test = scaler.transform(X_test.reshape(n, -1)).reshape(X_test.shape)\n",
        "            self.scaler = scaler\n",
        "\n",
        "        print('X_train shape:', X_train.shape)\n",
        "        print(X_train.shape[0], 'train samples')\n",
        "        print(X_test.shape[0], 'test samples')\n",
        "\n",
        "        Y_train = utils.to_categorical(y_train, nb_classes)\n",
        "        Y_test = utils.to_categorical(y_test, nb_classes)\n",
        "\n",
        "        self.X_train, self.X_test = X_train, X_test\n",
        "        self.Y_train, self.Y_test = Y_train, Y_test\n",
        "        self.y_train, self.y_test = y_train, Y_test\n",
        "    \n",
        "    def add_channels(self):\n",
        "        X = self.X\n",
        "\n",
        "        if len(X.shape) == 3:\n",
        "            N, img_rows, img_cols = X.shape\n",
        "\n",
        "            if K.image_dim_ordering() == 'th':\n",
        "                X = X.reshape(X.shape[0], 1, img_rows, img_cols)\n",
        "                input_shape = (1, img_rows, img_cols)\n",
        "            else:\n",
        "                X = X.reshape(X.shape[0], img_rows, img_cols, 1)\n",
        "                input_shape = (img_rows, img_cols, 1)\n",
        "        else:\n",
        "            input_shape = X.shape[1:]\n",
        "\n",
        "        self.X = X\n",
        "        self.input_shape = input_shape"
      ],
      "execution_count": 11,
      "outputs": []
    },
    {
      "cell_type": "code",
      "metadata": {
        "id": "evx3mxVk7Ber"
      },
      "source": [
        "# 분류 CNN의 학습 및 성능 평가를 위한 머신 클래스\n",
        "class Machine():\n",
        "    def __init__(self, X, y, nb_classes=2, fig=True):\n",
        "        self.nb_classes = nb_classes\n",
        "        self.set_data(X, y)\n",
        "        self.set_model()\n",
        "        self.fig = fig\n",
        "\n",
        "    def set_data(self, X, y):\n",
        "        nb_classes = self.nb_classes\n",
        "        self.data = DataSet(X, y, nb_classes)\n",
        "        print('data.input_shape', self.data.input_shape)\n",
        "\n",
        "    def set_model(self):\n",
        "        nb_classes = self.nb_classes\n",
        "        data = self.data\n",
        "        self.model = CNN(nb_classes=nb_classes, in_shape=data.input_shape)\n",
        "        print('set model finished')\n",
        "\n",
        "    def fit(self, epochs=10, batch_size=128, verbose=1):\n",
        "        data = self.data\n",
        "        model = self.model\n",
        "\n",
        "        history = model.fit(data.X_train, data.Y_train,\n",
        "                            batch_size=batch_size, epochs=epochs,\n",
        "                            verbose=verbose,\n",
        "                            validation_data=(data.X_test, data.Y_test))\n",
        "        return history\n",
        "\n",
        "    def run(self, epochs=100, batch_size=128, verbose=1):\n",
        "        data = self.data\n",
        "        model = self.model\n",
        "        fig = self.fig\n",
        "\n",
        "        history = self.fit(epochs=epochs,\n",
        "                           batch_size=batch_size, verbose=verbose)\n",
        "        \n",
        "        score = model.evaluate(data.X_test, data.Y_test, verbose=0)\n",
        "\n",
        "        print('Confusion matrix')\n",
        "        Y_test_pred = model.predict(data.X_test, verbose=0)\n",
        "        y_test_pred = np.argmax(Y_test_pred, axis=1)\n",
        "        print(metrics.confusion_matrix(np.argmax(data.y_test, axis=1), y_test_pred))\n",
        "\n",
        "        print('Test score:', score[0])\n",
        "        print('Test accuracy:', score[1])\n",
        "\n",
        "        # Save results\n",
        "        suffix = unique_filename('datetime')\n",
        "        foldname = 'output_' + suffix\n",
        "        os.makedirs(foldname)\n",
        "        save_history_history('history_history.npy', history.history, fold=foldname)\n",
        "        model.save_weights(os.path.join(foldname, 'dl_model.h5'))\n",
        "        print('Output results are saved in', foldname)\n",
        "\n",
        "        if fig:\n",
        "            plt.figure(figsize=(12, 4))\n",
        "            plt.subplot(1, 2, 1)\n",
        "            plot_acc(history)\n",
        "            plt.subplot(1, 2, 2)\n",
        "            plot_loss(history)\n",
        "            plt.show()\n",
        "\n",
        "        self.history = history"
      ],
      "execution_count": 12,
      "outputs": []
    },
    {
      "cell_type": "code",
      "metadata": {
        "id": "LrPoMlDP2KJg"
      },
      "source": [
        "from tensorflow.keras import datasets\n",
        "import tensorflow.keras as keras\n",
        "assert keras.backend.image_data_format() == 'channels_last'"
      ],
      "execution_count": 13,
      "outputs": []
    },
    {
      "cell_type": "code",
      "metadata": {
        "colab": {
          "base_uri": "https://localhost:8080/",
          "height": 1000
        },
        "id": "u4uEVGe69BMs",
        "outputId": "71c2f103-9071-4fe7-b4e1-39755305c957"
      },
      "source": [
        "(X, y), (x_test, y_test) = datasets.cifar10.load_data()\n",
        "m = Machine(X, y, nb_classes=10)\n",
        "m.run()"
      ],
      "execution_count": 14,
      "outputs": [
        {
          "output_type": "stream",
          "text": [
            "(40000, 32, 32, 3) (40000, 1)\n",
            "X_train shape: (40000, 32, 32, 3)\n",
            "40000 train samples\n",
            "10000 test samples\n",
            "data.input_shape (32, 32, 3)\n",
            "set model finished\n",
            "Epoch 1/100\n",
            "313/313 [==============================] - 4s 12ms/step - loss: 2.3086 - accuracy: 0.0997 - val_loss: 2.2968 - val_accuracy: 0.1251\n",
            "Epoch 2/100\n",
            "313/313 [==============================] - 3s 11ms/step - loss: 2.2987 - accuracy: 0.1133 - val_loss: 2.2887 - val_accuracy: 0.1196\n",
            "Epoch 3/100\n",
            "313/313 [==============================] - 3s 11ms/step - loss: 2.2913 - accuracy: 0.1230 - val_loss: 2.2807 - val_accuracy: 0.1237\n",
            "Epoch 4/100\n",
            "313/313 [==============================] - 3s 11ms/step - loss: 2.2840 - accuracy: 0.1346 - val_loss: 2.2730 - val_accuracy: 0.1350\n",
            "Epoch 5/100\n",
            "313/313 [==============================] - 3s 11ms/step - loss: 2.2772 - accuracy: 0.1435 - val_loss: 2.2650 - val_accuracy: 0.1545\n",
            "Epoch 6/100\n",
            "313/313 [==============================] - 3s 10ms/step - loss: 2.2693 - accuracy: 0.1524 - val_loss: 2.2560 - val_accuracy: 0.1689\n",
            "Epoch 7/100\n",
            "313/313 [==============================] - 3s 11ms/step - loss: 2.2610 - accuracy: 0.1616 - val_loss: 2.2459 - val_accuracy: 0.1929\n",
            "Epoch 8/100\n",
            "313/313 [==============================] - 3s 10ms/step - loss: 2.2513 - accuracy: 0.1668 - val_loss: 2.2348 - val_accuracy: 0.2047\n",
            "Epoch 9/100\n",
            "313/313 [==============================] - 3s 10ms/step - loss: 2.2410 - accuracy: 0.1794 - val_loss: 2.2232 - val_accuracy: 0.2237\n",
            "Epoch 10/100\n",
            "313/313 [==============================] - 3s 10ms/step - loss: 2.2321 - accuracy: 0.1832 - val_loss: 2.2112 - val_accuracy: 0.2288\n",
            "Epoch 11/100\n",
            "313/313 [==============================] - 3s 10ms/step - loss: 2.2210 - accuracy: 0.1899 - val_loss: 2.1984 - val_accuracy: 0.2381\n",
            "Epoch 12/100\n",
            "313/313 [==============================] - 3s 10ms/step - loss: 2.2097 - accuracy: 0.1964 - val_loss: 2.1854 - val_accuracy: 0.2454\n",
            "Epoch 13/100\n",
            "313/313 [==============================] - 3s 10ms/step - loss: 2.1999 - accuracy: 0.1985 - val_loss: 2.1727 - val_accuracy: 0.2530\n",
            "Epoch 14/100\n",
            "313/313 [==============================] - 3s 10ms/step - loss: 2.1886 - accuracy: 0.2017 - val_loss: 2.1599 - val_accuracy: 0.2571\n",
            "Epoch 15/100\n",
            "313/313 [==============================] - 3s 10ms/step - loss: 2.1792 - accuracy: 0.2045 - val_loss: 2.1475 - val_accuracy: 0.2615\n",
            "Epoch 16/100\n",
            "313/313 [==============================] - 3s 10ms/step - loss: 2.1689 - accuracy: 0.2106 - val_loss: 2.1354 - val_accuracy: 0.2646\n",
            "Epoch 17/100\n",
            "313/313 [==============================] - 3s 11ms/step - loss: 2.1606 - accuracy: 0.2117 - val_loss: 2.1240 - val_accuracy: 0.2741\n",
            "Epoch 18/100\n",
            "313/313 [==============================] - 3s 11ms/step - loss: 2.1487 - accuracy: 0.2197 - val_loss: 2.1126 - val_accuracy: 0.2685\n",
            "Epoch 19/100\n",
            "313/313 [==============================] - 3s 10ms/step - loss: 2.1417 - accuracy: 0.2211 - val_loss: 2.1023 - val_accuracy: 0.2772\n",
            "Epoch 20/100\n",
            "313/313 [==============================] - 3s 11ms/step - loss: 2.1350 - accuracy: 0.2255 - val_loss: 2.0924 - val_accuracy: 0.2845\n",
            "Epoch 21/100\n",
            "313/313 [==============================] - 3s 11ms/step - loss: 2.1257 - accuracy: 0.2250 - val_loss: 2.0829 - val_accuracy: 0.2811\n",
            "Epoch 22/100\n",
            "313/313 [==============================] - 3s 11ms/step - loss: 2.1181 - accuracy: 0.2270 - val_loss: 2.0737 - val_accuracy: 0.2902\n",
            "Epoch 23/100\n",
            "313/313 [==============================] - 3s 11ms/step - loss: 2.1125 - accuracy: 0.2299 - val_loss: 2.0650 - val_accuracy: 0.2891\n",
            "Epoch 24/100\n",
            "313/313 [==============================] - 3s 11ms/step - loss: 2.1038 - accuracy: 0.2340 - val_loss: 2.0563 - val_accuracy: 0.2901\n",
            "Epoch 25/100\n",
            "313/313 [==============================] - 3s 11ms/step - loss: 2.0951 - accuracy: 0.2387 - val_loss: 2.0479 - val_accuracy: 0.2953\n",
            "Epoch 26/100\n",
            "313/313 [==============================] - 3s 10ms/step - loss: 2.0916 - accuracy: 0.2373 - val_loss: 2.0402 - val_accuracy: 0.2995\n",
            "Epoch 27/100\n",
            "313/313 [==============================] - 3s 10ms/step - loss: 2.0833 - accuracy: 0.2432 - val_loss: 2.0325 - val_accuracy: 0.3023\n",
            "Epoch 28/100\n",
            "313/313 [==============================] - 3s 10ms/step - loss: 2.0773 - accuracy: 0.2434 - val_loss: 2.0254 - val_accuracy: 0.3036\n",
            "Epoch 29/100\n",
            "313/313 [==============================] - 3s 10ms/step - loss: 2.0703 - accuracy: 0.2509 - val_loss: 2.0186 - val_accuracy: 0.3039\n",
            "Epoch 30/100\n",
            "313/313 [==============================] - 3s 10ms/step - loss: 2.0653 - accuracy: 0.2474 - val_loss: 2.0117 - val_accuracy: 0.3070\n",
            "Epoch 31/100\n",
            "313/313 [==============================] - 3s 10ms/step - loss: 2.0600 - accuracy: 0.2488 - val_loss: 2.0050 - val_accuracy: 0.3102\n",
            "Epoch 32/100\n",
            "313/313 [==============================] - 3s 10ms/step - loss: 2.0578 - accuracy: 0.2543 - val_loss: 1.9991 - val_accuracy: 0.3170\n",
            "Epoch 33/100\n",
            "313/313 [==============================] - 3s 10ms/step - loss: 2.0534 - accuracy: 0.2561 - val_loss: 1.9937 - val_accuracy: 0.3167\n",
            "Epoch 34/100\n",
            "313/313 [==============================] - 3s 10ms/step - loss: 2.0473 - accuracy: 0.2594 - val_loss: 1.9879 - val_accuracy: 0.3199\n",
            "Epoch 35/100\n",
            "313/313 [==============================] - 3s 10ms/step - loss: 2.0437 - accuracy: 0.2612 - val_loss: 1.9823 - val_accuracy: 0.3162\n",
            "Epoch 36/100\n",
            "313/313 [==============================] - 3s 10ms/step - loss: 2.0346 - accuracy: 0.2666 - val_loss: 1.9766 - val_accuracy: 0.3212\n",
            "Epoch 37/100\n",
            "313/313 [==============================] - 4s 12ms/step - loss: 2.0320 - accuracy: 0.2635 - val_loss: 1.9711 - val_accuracy: 0.3261\n",
            "Epoch 38/100\n",
            "313/313 [==============================] - 3s 11ms/step - loss: 2.0304 - accuracy: 0.2652 - val_loss: 1.9664 - val_accuracy: 0.3262\n",
            "Epoch 39/100\n",
            "313/313 [==============================] - 3s 11ms/step - loss: 2.0244 - accuracy: 0.2686 - val_loss: 1.9610 - val_accuracy: 0.3267\n",
            "Epoch 40/100\n",
            "313/313 [==============================] - 3s 11ms/step - loss: 2.0215 - accuracy: 0.2686 - val_loss: 1.9562 - val_accuracy: 0.3296\n",
            "Epoch 41/100\n",
            "313/313 [==============================] - 4s 12ms/step - loss: 2.0185 - accuracy: 0.2711 - val_loss: 1.9518 - val_accuracy: 0.3308\n",
            "Epoch 42/100\n",
            "313/313 [==============================] - 3s 11ms/step - loss: 2.0089 - accuracy: 0.2761 - val_loss: 1.9466 - val_accuracy: 0.3345\n",
            "Epoch 43/100\n",
            "313/313 [==============================] - 3s 11ms/step - loss: 2.0088 - accuracy: 0.2756 - val_loss: 1.9419 - val_accuracy: 0.3355\n",
            "Epoch 44/100\n",
            "313/313 [==============================] - 3s 11ms/step - loss: 2.0035 - accuracy: 0.2785 - val_loss: 1.9375 - val_accuracy: 0.3383\n",
            "Epoch 45/100\n",
            "313/313 [==============================] - 3s 10ms/step - loss: 2.0017 - accuracy: 0.2776 - val_loss: 1.9333 - val_accuracy: 0.3400\n",
            "Epoch 46/100\n",
            "313/313 [==============================] - 3s 10ms/step - loss: 1.9982 - accuracy: 0.2790 - val_loss: 1.9288 - val_accuracy: 0.3406\n",
            "Epoch 47/100\n",
            "313/313 [==============================] - 3s 11ms/step - loss: 1.9929 - accuracy: 0.2837 - val_loss: 1.9247 - val_accuracy: 0.3419\n",
            "Epoch 48/100\n",
            "313/313 [==============================] - 3s 10ms/step - loss: 1.9902 - accuracy: 0.2834 - val_loss: 1.9206 - val_accuracy: 0.3429\n",
            "Epoch 49/100\n",
            "313/313 [==============================] - 3s 10ms/step - loss: 1.9850 - accuracy: 0.2847 - val_loss: 1.9165 - val_accuracy: 0.3454\n",
            "Epoch 50/100\n",
            "313/313 [==============================] - 3s 10ms/step - loss: 1.9821 - accuracy: 0.2890 - val_loss: 1.9125 - val_accuracy: 0.3457\n",
            "Epoch 51/100\n",
            "313/313 [==============================] - 3s 10ms/step - loss: 1.9768 - accuracy: 0.2896 - val_loss: 1.9081 - val_accuracy: 0.3470\n",
            "Epoch 52/100\n",
            "313/313 [==============================] - 3s 10ms/step - loss: 1.9756 - accuracy: 0.2910 - val_loss: 1.9045 - val_accuracy: 0.3495\n",
            "Epoch 53/100\n",
            "313/313 [==============================] - 3s 10ms/step - loss: 1.9718 - accuracy: 0.2953 - val_loss: 1.9007 - val_accuracy: 0.3495\n",
            "Epoch 54/100\n",
            "313/313 [==============================] - 3s 10ms/step - loss: 1.9677 - accuracy: 0.2969 - val_loss: 1.8967 - val_accuracy: 0.3511\n",
            "Epoch 55/100\n",
            "313/313 [==============================] - 3s 10ms/step - loss: 1.9647 - accuracy: 0.2976 - val_loss: 1.8927 - val_accuracy: 0.3524\n",
            "Epoch 56/100\n",
            "313/313 [==============================] - 3s 10ms/step - loss: 1.9638 - accuracy: 0.2964 - val_loss: 1.8893 - val_accuracy: 0.3522\n",
            "Epoch 57/100\n",
            "313/313 [==============================] - 3s 11ms/step - loss: 1.9609 - accuracy: 0.3010 - val_loss: 1.8857 - val_accuracy: 0.3547\n",
            "Epoch 58/100\n",
            "313/313 [==============================] - 4s 12ms/step - loss: 1.9554 - accuracy: 0.3018 - val_loss: 1.8820 - val_accuracy: 0.3579\n",
            "Epoch 59/100\n",
            "313/313 [==============================] - 3s 11ms/step - loss: 1.9497 - accuracy: 0.3042 - val_loss: 1.8781 - val_accuracy: 0.3571\n",
            "Epoch 60/100\n",
            "313/313 [==============================] - 3s 11ms/step - loss: 1.9483 - accuracy: 0.3016 - val_loss: 1.8745 - val_accuracy: 0.3593\n",
            "Epoch 61/100\n",
            "313/313 [==============================] - 3s 11ms/step - loss: 1.9475 - accuracy: 0.3033 - val_loss: 1.8716 - val_accuracy: 0.3626\n",
            "Epoch 62/100\n",
            "313/313 [==============================] - 3s 11ms/step - loss: 1.9418 - accuracy: 0.3037 - val_loss: 1.8673 - val_accuracy: 0.3628\n",
            "Epoch 63/100\n",
            "313/313 [==============================] - 4s 12ms/step - loss: 1.9399 - accuracy: 0.3068 - val_loss: 1.8639 - val_accuracy: 0.3658\n",
            "Epoch 64/100\n",
            "313/313 [==============================] - 3s 11ms/step - loss: 1.9368 - accuracy: 0.3090 - val_loss: 1.8603 - val_accuracy: 0.3661\n",
            "Epoch 65/100\n",
            "313/313 [==============================] - 3s 11ms/step - loss: 1.9354 - accuracy: 0.3062 - val_loss: 1.8576 - val_accuracy: 0.3664\n",
            "Epoch 66/100\n",
            "313/313 [==============================] - 3s 11ms/step - loss: 1.9318 - accuracy: 0.3107 - val_loss: 1.8539 - val_accuracy: 0.3679\n",
            "Epoch 67/100\n",
            "313/313 [==============================] - 3s 10ms/step - loss: 1.9253 - accuracy: 0.3130 - val_loss: 1.8500 - val_accuracy: 0.3669\n",
            "Epoch 68/100\n",
            "313/313 [==============================] - 3s 11ms/step - loss: 1.9247 - accuracy: 0.3151 - val_loss: 1.8467 - val_accuracy: 0.3702\n",
            "Epoch 69/100\n",
            "313/313 [==============================] - 3s 10ms/step - loss: 1.9208 - accuracy: 0.3122 - val_loss: 1.8433 - val_accuracy: 0.3713\n",
            "Epoch 70/100\n",
            "313/313 [==============================] - 3s 10ms/step - loss: 1.9190 - accuracy: 0.3144 - val_loss: 1.8402 - val_accuracy: 0.3710\n",
            "Epoch 71/100\n",
            "313/313 [==============================] - 3s 11ms/step - loss: 1.9129 - accuracy: 0.3170 - val_loss: 1.8367 - val_accuracy: 0.3728\n",
            "Epoch 72/100\n",
            "313/313 [==============================] - 3s 10ms/step - loss: 1.9124 - accuracy: 0.3202 - val_loss: 1.8333 - val_accuracy: 0.3733\n",
            "Epoch 73/100\n",
            "313/313 [==============================] - 3s 10ms/step - loss: 1.9099 - accuracy: 0.3194 - val_loss: 1.8304 - val_accuracy: 0.3736\n",
            "Epoch 74/100\n",
            "313/313 [==============================] - 3s 10ms/step - loss: 1.9061 - accuracy: 0.3206 - val_loss: 1.8271 - val_accuracy: 0.3747\n",
            "Epoch 75/100\n",
            "313/313 [==============================] - 3s 10ms/step - loss: 1.9004 - accuracy: 0.3236 - val_loss: 1.8236 - val_accuracy: 0.3778\n",
            "Epoch 76/100\n",
            "313/313 [==============================] - 3s 11ms/step - loss: 1.8983 - accuracy: 0.3233 - val_loss: 1.8206 - val_accuracy: 0.3769\n",
            "Epoch 77/100\n",
            "313/313 [==============================] - 4s 12ms/step - loss: 1.8987 - accuracy: 0.3234 - val_loss: 1.8175 - val_accuracy: 0.3781\n",
            "Epoch 78/100\n",
            "313/313 [==============================] - 4s 12ms/step - loss: 1.8934 - accuracy: 0.3271 - val_loss: 1.8145 - val_accuracy: 0.3795\n",
            "Epoch 79/100\n",
            "313/313 [==============================] - 3s 11ms/step - loss: 1.8931 - accuracy: 0.3286 - val_loss: 1.8117 - val_accuracy: 0.3802\n",
            "Epoch 80/100\n",
            "313/313 [==============================] - 3s 11ms/step - loss: 1.8877 - accuracy: 0.3257 - val_loss: 1.8086 - val_accuracy: 0.3825\n",
            "Epoch 81/100\n",
            "313/313 [==============================] - 3s 11ms/step - loss: 1.8907 - accuracy: 0.3263 - val_loss: 1.8063 - val_accuracy: 0.3812\n",
            "Epoch 82/100\n",
            "313/313 [==============================] - 3s 11ms/step - loss: 1.8863 - accuracy: 0.3284 - val_loss: 1.8034 - val_accuracy: 0.3845\n",
            "Epoch 83/100\n",
            "313/313 [==============================] - 3s 11ms/step - loss: 1.8843 - accuracy: 0.3317 - val_loss: 1.8008 - val_accuracy: 0.3831\n",
            "Epoch 84/100\n",
            "313/313 [==============================] - 3s 11ms/step - loss: 1.8780 - accuracy: 0.3334 - val_loss: 1.7975 - val_accuracy: 0.3846\n",
            "Epoch 85/100\n",
            "313/313 [==============================] - 3s 10ms/step - loss: 1.8791 - accuracy: 0.3302 - val_loss: 1.7948 - val_accuracy: 0.3875\n",
            "Epoch 86/100\n",
            "313/313 [==============================] - 3s 11ms/step - loss: 1.8722 - accuracy: 0.3360 - val_loss: 1.7917 - val_accuracy: 0.3886\n",
            "Epoch 87/100\n",
            "313/313 [==============================] - 3s 10ms/step - loss: 1.8709 - accuracy: 0.3339 - val_loss: 1.7893 - val_accuracy: 0.3880\n",
            "Epoch 88/100\n",
            "313/313 [==============================] - 3s 10ms/step - loss: 1.8690 - accuracy: 0.3358 - val_loss: 1.7864 - val_accuracy: 0.3901\n",
            "Epoch 89/100\n",
            "313/313 [==============================] - 3s 10ms/step - loss: 1.8682 - accuracy: 0.3355 - val_loss: 1.7839 - val_accuracy: 0.3906\n",
            "Epoch 90/100\n",
            "313/313 [==============================] - 3s 10ms/step - loss: 1.8706 - accuracy: 0.3331 - val_loss: 1.7818 - val_accuracy: 0.3917\n",
            "Epoch 91/100\n",
            "313/313 [==============================] - 3s 10ms/step - loss: 1.8657 - accuracy: 0.3377 - val_loss: 1.7790 - val_accuracy: 0.3928\n",
            "Epoch 92/100\n",
            "313/313 [==============================] - 3s 10ms/step - loss: 1.8604 - accuracy: 0.3368 - val_loss: 1.7762 - val_accuracy: 0.3939\n",
            "Epoch 93/100\n",
            "313/313 [==============================] - 3s 10ms/step - loss: 1.8564 - accuracy: 0.3396 - val_loss: 1.7735 - val_accuracy: 0.3949\n",
            "Epoch 94/100\n",
            "313/313 [==============================] - 3s 10ms/step - loss: 1.8516 - accuracy: 0.3456 - val_loss: 1.7708 - val_accuracy: 0.3926\n",
            "Epoch 95/100\n",
            "313/313 [==============================] - 3s 10ms/step - loss: 1.8536 - accuracy: 0.3405 - val_loss: 1.7686 - val_accuracy: 0.3940\n",
            "Epoch 96/100\n",
            "313/313 [==============================] - 3s 11ms/step - loss: 1.8491 - accuracy: 0.3413 - val_loss: 1.7658 - val_accuracy: 0.3962\n",
            "Epoch 97/100\n",
            "313/313 [==============================] - 3s 11ms/step - loss: 1.8447 - accuracy: 0.3454 - val_loss: 1.7630 - val_accuracy: 0.3981\n",
            "Epoch 98/100\n",
            "313/313 [==============================] - 3s 11ms/step - loss: 1.8469 - accuracy: 0.3451 - val_loss: 1.7607 - val_accuracy: 0.3968\n",
            "Epoch 99/100\n",
            "313/313 [==============================] - 3s 11ms/step - loss: 1.8434 - accuracy: 0.3453 - val_loss: 1.7582 - val_accuracy: 0.3974\n",
            "Epoch 100/100\n",
            "313/313 [==============================] - 3s 11ms/step - loss: 1.8395 - accuracy: 0.3461 - val_loss: 1.7560 - val_accuracy: 0.3986\n",
            "Confusion matrix\n",
            "[[476  79  20  19  23  23  36  47 220  61]\n",
            " [ 37 531   4  12  13  23  58  32  76 200]\n",
            " [133  59 163  44 168  96 186  95  47  25]\n",
            " [ 48  63  53 178  41 241 208  76  49  73]\n",
            " [ 66  26  73  38 286  95 231  82  34  36]\n",
            " [ 42  34  69 106  60 392 148  79  48  38]\n",
            " [ 15  33  42  80  97  63 546  42  12  23]\n",
            " [ 33  58  27  46 120  93 109 384  26 103]\n",
            " [200  87   8  10   4  55  13  16 517  79]\n",
            " [ 37 242   2  11   9  16  52  44 114 513]]\n",
            "Test score: 1.7559670209884644\n",
            "Test accuracy: 0.3986000120639801\n",
            "Output results are saved in output_210804_170931\n"
          ],
          "name": "stdout"
        },
        {
          "output_type": "display_data",
          "data": {
            "image/png": "[encoded data removed]",
            "text/plain": [
              "<Figure size 864x288 with 2 Axes>"
            ]
          },
          "metadata": {
            "tags": [],
            "needs_background": "light"
          }
        }
      ]
    }
  ]
}