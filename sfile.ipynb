{
  "nbformat": 4,
  "nbformat_minor": 0,
  "metadata": {
    "colab": {
      "name": "sfile.ipynb",
      "provenance": [],
      "authorship_tag": "ABX9TyMvxRgEI183JpxfMft1wNqm",
      "include_colab_link": true
    },
    "kernelspec": {
      "name": "python3",
      "display_name": "Python 3"
    },
    "language_info": {
      "name": "python"
    }
  },
  "cells": [
    {
      "cell_type": "markdown",
      "metadata": {
        "id": "view-in-github",
        "colab_type": "text"
      },
      "source": [
        "<a href=\"https://colab.research.google.com/github/kiseonjeong/keras-ml/blob/cnn-mnist/sfile.ipynb\" target=\"_parent\"><img src=\"https://colab.research.google.com/assets/colab-badge.svg\" alt=\"Open In Colab\"/></a>"
      ]
    },
    {
      "cell_type": "code",
      "metadata": {
        "id": "_olrysp-6rHm"
      },
      "source": [
        "import datetime\n",
        "import uuid\n",
        "import os\n",
        "\n",
        "\n",
        "def unique_filename(type='uuid'):\n",
        "    if type == 'datetime':\n",
        "        filename = datetime.datetime.now().strftime(\"%y%m%d_%H%M%S\")\n",
        "    else:  # type == \"uuid\"\n",
        "        filename = str(uuid.uuid4())\n",
        "    return filename\n",
        "\n",
        "\n",
        "def makenewfold(prefix='output_', type='datetime'):\n",
        "    suffix = unique_filename('datetime')\n",
        "    foldname = 'output_' + suffix\n",
        "    os.makedirs(foldname)\n",
        "    return foldname\n"
      ],
      "execution_count": 1,
      "outputs": []
    }
  ]
}