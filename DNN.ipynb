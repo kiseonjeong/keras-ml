{
  "nbformat": 4,
  "nbformat_minor": 0,
  "metadata": {
    "colab": {
      "name": "DNN.ipynb",
      "provenance": [],
      "collapsed_sections": [],
      "mount_file_id": "1tP4g-ZPKKz-kk-z32vpbmGlD2DOjFWft",
      "authorship_tag": "ABX9TyMLXPIY0rgzR4hBrZQORVnG",
      "include_colab_link": true
    },
    "kernelspec": {
      "name": "python3",
      "display_name": "Python 3"
    },
    "language_info": {
      "name": "python"
    },
    "accelerator": "GPU"
  },
  "cells": [
    {
      "cell_type": "markdown",
      "metadata": {
        "id": "view-in-github",
        "colab_type": "text"
      },
      "source": [
        "<a href=\"https://colab.research.google.com/github/kiseonjeong/keras-ml/blob/cnn-cifar10/DNN.ipynb\" target=\"_parent\"><img src=\"https://colab.research.google.com/assets/colab-badge.svg\" alt=\"Open In Colab\"/></a>"
      ]
    },
    {
      "cell_type": "markdown",
      "metadata": {
        "id": "yuxtTXXyWg-c"
      },
      "source": [
        "# 필기체 분류"
      ]
    },
    {
      "cell_type": "code",
      "metadata": {
        "id": "D4KnQ65d8Apo"
      },
      "source": [
        "# 기본 파라미터 설정\n",
        "Nin = 784\n",
        "Nh_l = [100, 50]\n",
        "number_of_class = 10\n",
        "Nout = number_of_class"
      ],
      "execution_count": 1,
      "outputs": []
    },
    {
      "cell_type": "code",
      "metadata": {
        "id": "l0y1jYdAWylh"
      },
      "source": [
        "from tensorflow.keras import layers, models"
      ],
      "execution_count": 2,
      "outputs": []
    },
    {
      "cell_type": "code",
      "metadata": {
        "id": "o91f_8RNW50A"
      },
      "source": [
        "# 분류 DNN 모델 구현\n",
        "class DNN(models.Sequential):\n",
        "    def __init__(self, Nin, Nh_l, Nout):\n",
        "        super().__init__()\n",
        "        self.add(layers.Dense(Nh_l[0], activation='relu', input_shape=(Nin,), name='Hidden-1'))\n",
        "        self.add(layers.Dense(Nh_l[1], activation='relu', name='Hidden-2'))\n",
        "        self.add(layers.Dense(Nout, activation='softmax'))\n",
        "        self.compile(loss='categorical_crossentropy', optimizer='adam', metrics=['accuracy'])"
      ],
      "execution_count": 3,
      "outputs": []
    },
    {
      "cell_type": "code",
      "metadata": {
        "id": "_4shEYZQXg0m"
      },
      "source": [
        "import numpy as np\n",
        "from tensorflow.keras import datasets, utils"
      ],
      "execution_count": 4,
      "outputs": []
    },
    {
      "cell_type": "code",
      "metadata": {
        "colab": {
          "base_uri": "https://localhost:8080/"
        },
        "id": "yEUp0oyiYDwz",
        "outputId": "fbe8fd85-f415-4f57-eba5-1804adef5cd6"
      },
      "source": [
        "# 데이터 준비\n",
        "(X_train, y_train), (X_test, y_test) = datasets.mnist.load_data()\n",
        "y_train = utils.to_categorical(y_train)\n",
        "y_test = utils.to_categorical(y_test)\n",
        "L, W, H = X_train.shape\n",
        "X_train = X_train.reshape(-1, W * H)\n",
        "X_test = X_test.reshape(-1, W * H)\n",
        "X_train = X_train / 255.0\n",
        "X_test = X_test / 255.0"
      ],
      "execution_count": 5,
      "outputs": [
        {
          "output_type": "stream",
          "text": [
            "Downloading data from https://storage.googleapis.com/tensorflow/tf-keras-datasets/mnist.npz\n",
            "11493376/11490434 [==============================] - 0s 0us/step\n"
          ],
          "name": "stdout"
        }
      ]
    },
    {
      "cell_type": "code",
      "metadata": {
        "colab": {
          "base_uri": "https://localhost:8080/"
        },
        "id": "-61_wMJrYcQl",
        "outputId": "b9bf5fdf-4e8b-47c1-de61-f3c8d4605202"
      },
      "source": [
        "# 분류 DNN 학습 및 성능 평가\n",
        "model = DNN(Nin, Nh_l, Nout)\n",
        "history = model.fit(X_train, y_train, epochs=10, batch_size=100, validation_split=0.2)\n",
        "performance_test = model.evaluate(X_test, y_test, batch_size=100)\n",
        "print('Test Loss and Accuracy ->', performance_test)"
      ],
      "execution_count": 6,
      "outputs": [
        {
          "output_type": "stream",
          "text": [
            "Epoch 1/10\n",
            "480/480 [==============================] - 5s 3ms/step - loss: 0.3595 - accuracy: 0.8996 - val_loss: 0.1747 - val_accuracy: 0.9500\n",
            "Epoch 2/10\n",
            "480/480 [==============================] - 1s 3ms/step - loss: 0.1480 - accuracy: 0.9564 - val_loss: 0.1319 - val_accuracy: 0.9625\n",
            "Epoch 3/10\n",
            "480/480 [==============================] - 1s 3ms/step - loss: 0.1057 - accuracy: 0.9686 - val_loss: 0.1115 - val_accuracy: 0.9662\n",
            "Epoch 4/10\n",
            "480/480 [==============================] - 1s 3ms/step - loss: 0.0815 - accuracy: 0.9758 - val_loss: 0.1066 - val_accuracy: 0.9701\n",
            "Epoch 5/10\n",
            "480/480 [==============================] - 1s 3ms/step - loss: 0.0653 - accuracy: 0.9809 - val_loss: 0.0979 - val_accuracy: 0.9694\n",
            "Epoch 6/10\n",
            "480/480 [==============================] - 1s 3ms/step - loss: 0.0530 - accuracy: 0.9840 - val_loss: 0.0935 - val_accuracy: 0.9723\n",
            "Epoch 7/10\n",
            "480/480 [==============================] - 1s 3ms/step - loss: 0.0437 - accuracy: 0.9869 - val_loss: 0.0949 - val_accuracy: 0.9722\n",
            "Epoch 8/10\n",
            "480/480 [==============================] - 1s 3ms/step - loss: 0.0351 - accuracy: 0.9896 - val_loss: 0.1016 - val_accuracy: 0.9711\n",
            "Epoch 9/10\n",
            "480/480 [==============================] - 1s 3ms/step - loss: 0.0296 - accuracy: 0.9913 - val_loss: 0.0966 - val_accuracy: 0.9726\n",
            "Epoch 10/10\n",
            "480/480 [==============================] - 1s 3ms/step - loss: 0.0243 - accuracy: 0.9926 - val_loss: 0.0968 - val_accuracy: 0.9746\n",
            "100/100 [==============================] - 0s 2ms/step - loss: 0.0885 - accuracy: 0.9752\n",
            "Test Loss and Accuracy -> [0.08849368244409561, 0.9751999974250793]\n"
          ],
          "name": "stdout"
        }
      ]
    },
    {
      "cell_type": "markdown",
      "metadata": {
        "id": "l_BIfj4WarfF"
      },
      "source": [
        "# 컬러 이미지 분류"
      ]
    },
    {
      "cell_type": "code",
      "metadata": {
        "id": "dKwDd1-pdDcA"
      },
      "source": [
        "# 데이터 불러오기\n",
        "def Data_func():\n",
        "    (X_train, y_train), (X_test, y_test) = datasets.cifar10.load_data()\n",
        "\n",
        "    Y_train = utils.to_categorical(y_train)\n",
        "    Y_test = utils.to_categorical(y_test)\n",
        "\n",
        "    L, W, H, C = X_train.shape\n",
        "    X_train = X_train.reshape(-1, W * H * C)\n",
        "    X_test = X_test.reshape(-1, W * H * C)\n",
        "\n",
        "    X_train = X_train / 255.0\n",
        "    X_test = X_test / 255.0\n",
        "\n",
        "    return (X_train, Y_train), (X_test, Y_test)"
      ],
      "execution_count": 7,
      "outputs": []
    },
    {
      "cell_type": "code",
      "metadata": {
        "id": "nj1E34HwdhwL"
      },
      "source": [
        "# DNN 모델링\n",
        "class DNN(models.Sequential):\n",
        "    def __init__(self, Nin, Nh_l, Pd_l, Nout):\n",
        "        super().__init__()\n",
        "\n",
        "        self.add(layers.Dense(Nh_l[0], activation='relu', input_shape=(Nin,), name='Hidden-1'))\n",
        "        self.add(layers.Dropout(Pd_l[0]))\n",
        "\n",
        "        self.add(layers.Dense(Nh_l[1], activation='relu', input_shape=(Nin,), name='Hidden-2'))\n",
        "        self.add(layers.Dropout(Pd_l[1]))\n",
        "\n",
        "        self.add(layers.Dense(Nout, activation='softmax'))\n",
        "        self.compile(loss='categorical_crossentropy', optimizer='adam', metrics=['accuracy'])"
      ],
      "execution_count": 8,
      "outputs": []
    },
    {
      "cell_type": "code",
      "metadata": {
        "id": "Xe3I6q9IauWf"
      },
      "source": [
        "%run 'drive/MyDrive/Colab Notebooks/Keras/skeras.ipynb'"
      ],
      "execution_count": 9,
      "outputs": []
    },
    {
      "cell_type": "code",
      "metadata": {
        "id": "TB3kNnJSeGdq"
      },
      "source": [
        "import matplotlib.pyplot as plt"
      ],
      "execution_count": 10,
      "outputs": []
    },
    {
      "cell_type": "code",
      "metadata": {
        "colab": {
          "base_uri": "https://localhost:8080/"
        },
        "id": "x9KDjOGkeOnQ",
        "outputId": "c392cf04-b747-42b4-d628-60e2e668a54f"
      },
      "source": [
        "Nh_l = [100, 50]\n",
        "Pd_l = [0.0, 0.0]\n",
        "number_of_class = 10\n",
        "Nout = number_of_class\n",
        "\n",
        "(X_train, Y_train), (X_test, Y_test) = Data_func()\n",
        "model = DNN(X_train.shape[1], Nh_l, Pd_l, Nout)\n",
        "history = model.fit(X_train, Y_train, epochs=100, batch_size=100, validation_split=0.2)\n",
        "\n",
        "performance_test = model.evaluate(X_test, Y_test, batch_size=100)\n",
        "print('Test Loss and Accuracy ->', performance_test)"
      ],
      "execution_count": 11,
      "outputs": [
        {
          "output_type": "stream",
          "text": [
            "Downloading data from https://www.cs.toronto.edu/~kriz/cifar-10-python.tar.gz\n",
            "170500096/170498071 [==============================] - 4s 0us/step\n",
            "Epoch 1/100\n",
            "400/400 [==============================] - 2s 4ms/step - loss: 1.9414 - accuracy: 0.3002 - val_loss: 1.8197 - val_accuracy: 0.3527\n",
            "Epoch 2/100\n",
            "400/400 [==============================] - 1s 3ms/step - loss: 1.7713 - accuracy: 0.3677 - val_loss: 1.7650 - val_accuracy: 0.3619\n",
            "Epoch 3/100\n",
            "400/400 [==============================] - 1s 3ms/step - loss: 1.7043 - accuracy: 0.3857 - val_loss: 1.7243 - val_accuracy: 0.3847\n",
            "Epoch 4/100\n",
            "400/400 [==============================] - 1s 3ms/step - loss: 1.6682 - accuracy: 0.4015 - val_loss: 1.7001 - val_accuracy: 0.3929\n",
            "Epoch 5/100\n",
            "400/400 [==============================] - 1s 3ms/step - loss: 1.6399 - accuracy: 0.4135 - val_loss: 1.6435 - val_accuracy: 0.4174\n",
            "Epoch 6/100\n",
            "400/400 [==============================] - 1s 3ms/step - loss: 1.6160 - accuracy: 0.4235 - val_loss: 1.6388 - val_accuracy: 0.4223\n",
            "Epoch 7/100\n",
            "400/400 [==============================] - 1s 3ms/step - loss: 1.5925 - accuracy: 0.4302 - val_loss: 1.6521 - val_accuracy: 0.4143\n",
            "Epoch 8/100\n",
            "400/400 [==============================] - 1s 3ms/step - loss: 1.5762 - accuracy: 0.4374 - val_loss: 1.5995 - val_accuracy: 0.4342\n",
            "Epoch 9/100\n",
            "400/400 [==============================] - 1s 3ms/step - loss: 1.5617 - accuracy: 0.4437 - val_loss: 1.6206 - val_accuracy: 0.4253\n",
            "Epoch 10/100\n",
            "400/400 [==============================] - 1s 3ms/step - loss: 1.5459 - accuracy: 0.4492 - val_loss: 1.5880 - val_accuracy: 0.4355\n",
            "Epoch 11/100\n",
            "400/400 [==============================] - 1s 3ms/step - loss: 1.5352 - accuracy: 0.4502 - val_loss: 1.5844 - val_accuracy: 0.4381\n",
            "Epoch 12/100\n",
            "400/400 [==============================] - 1s 3ms/step - loss: 1.5243 - accuracy: 0.4568 - val_loss: 1.6031 - val_accuracy: 0.4308\n",
            "Epoch 13/100\n",
            "400/400 [==============================] - 1s 3ms/step - loss: 1.5153 - accuracy: 0.4588 - val_loss: 1.6372 - val_accuracy: 0.4173\n",
            "Epoch 14/100\n",
            "400/400 [==============================] - 1s 3ms/step - loss: 1.5115 - accuracy: 0.4611 - val_loss: 1.5837 - val_accuracy: 0.4386\n",
            "Epoch 15/100\n",
            "400/400 [==============================] - 1s 3ms/step - loss: 1.4965 - accuracy: 0.4649 - val_loss: 1.5775 - val_accuracy: 0.4327\n",
            "Epoch 16/100\n",
            "400/400 [==============================] - 1s 3ms/step - loss: 1.4990 - accuracy: 0.4634 - val_loss: 1.5607 - val_accuracy: 0.4434\n",
            "Epoch 17/100\n",
            "400/400 [==============================] - 1s 3ms/step - loss: 1.4877 - accuracy: 0.4691 - val_loss: 1.5423 - val_accuracy: 0.4488\n",
            "Epoch 18/100\n",
            "400/400 [==============================] - 1s 3ms/step - loss: 1.4850 - accuracy: 0.4700 - val_loss: 1.5513 - val_accuracy: 0.4456\n",
            "Epoch 19/100\n",
            "400/400 [==============================] - 1s 3ms/step - loss: 1.4740 - accuracy: 0.4731 - val_loss: 1.5621 - val_accuracy: 0.4457\n",
            "Epoch 20/100\n",
            "400/400 [==============================] - 1s 3ms/step - loss: 1.4640 - accuracy: 0.4776 - val_loss: 1.5557 - val_accuracy: 0.4476\n",
            "Epoch 21/100\n",
            "400/400 [==============================] - 1s 3ms/step - loss: 1.4576 - accuracy: 0.4778 - val_loss: 1.5751 - val_accuracy: 0.4406\n",
            "Epoch 22/100\n",
            "400/400 [==============================] - 1s 3ms/step - loss: 1.4557 - accuracy: 0.4784 - val_loss: 1.5299 - val_accuracy: 0.4566\n",
            "Epoch 23/100\n",
            "400/400 [==============================] - 1s 3ms/step - loss: 1.4536 - accuracy: 0.4836 - val_loss: 1.5419 - val_accuracy: 0.4528\n",
            "Epoch 24/100\n",
            "400/400 [==============================] - 1s 3ms/step - loss: 1.4486 - accuracy: 0.4832 - val_loss: 1.5663 - val_accuracy: 0.4400\n",
            "Epoch 25/100\n",
            "400/400 [==============================] - 1s 3ms/step - loss: 1.4389 - accuracy: 0.4854 - val_loss: 1.5818 - val_accuracy: 0.4424\n",
            "Epoch 26/100\n",
            "400/400 [==============================] - 1s 3ms/step - loss: 1.4385 - accuracy: 0.4869 - val_loss: 1.5272 - val_accuracy: 0.4597\n",
            "Epoch 27/100\n",
            "400/400 [==============================] - 1s 3ms/step - loss: 1.4332 - accuracy: 0.4895 - val_loss: 1.5388 - val_accuracy: 0.4593\n",
            "Epoch 28/100\n",
            "400/400 [==============================] - 1s 3ms/step - loss: 1.4352 - accuracy: 0.4882 - val_loss: 1.5223 - val_accuracy: 0.4634\n",
            "Epoch 29/100\n",
            "400/400 [==============================] - 1s 3ms/step - loss: 1.4206 - accuracy: 0.4940 - val_loss: 1.5285 - val_accuracy: 0.4587\n",
            "Epoch 30/100\n",
            "400/400 [==============================] - 1s 3ms/step - loss: 1.4200 - accuracy: 0.4950 - val_loss: 1.5332 - val_accuracy: 0.4566\n",
            "Epoch 31/100\n",
            "400/400 [==============================] - 1s 3ms/step - loss: 1.4156 - accuracy: 0.4941 - val_loss: 1.5262 - val_accuracy: 0.4621\n",
            "Epoch 32/100\n",
            "400/400 [==============================] - 1s 3ms/step - loss: 1.4124 - accuracy: 0.4956 - val_loss: 1.5334 - val_accuracy: 0.4593\n",
            "Epoch 33/100\n",
            "400/400 [==============================] - 1s 4ms/step - loss: 1.4081 - accuracy: 0.4970 - val_loss: 1.5504 - val_accuracy: 0.4552\n",
            "Epoch 34/100\n",
            "400/400 [==============================] - 1s 3ms/step - loss: 1.4031 - accuracy: 0.4974 - val_loss: 1.5199 - val_accuracy: 0.4659\n",
            "Epoch 35/100\n",
            "400/400 [==============================] - 1s 4ms/step - loss: 1.3984 - accuracy: 0.5012 - val_loss: 1.5176 - val_accuracy: 0.4633\n",
            "Epoch 36/100\n",
            "400/400 [==============================] - 1s 3ms/step - loss: 1.3979 - accuracy: 0.5019 - val_loss: 1.4988 - val_accuracy: 0.4715\n",
            "Epoch 37/100\n",
            "400/400 [==============================] - 1s 3ms/step - loss: 1.3922 - accuracy: 0.5017 - val_loss: 1.5162 - val_accuracy: 0.4661\n",
            "Epoch 38/100\n",
            "400/400 [==============================] - 1s 4ms/step - loss: 1.3889 - accuracy: 0.5026 - val_loss: 1.5105 - val_accuracy: 0.4685\n",
            "Epoch 39/100\n",
            "400/400 [==============================] - 1s 4ms/step - loss: 1.3923 - accuracy: 0.5005 - val_loss: 1.5552 - val_accuracy: 0.4535\n",
            "Epoch 40/100\n",
            "400/400 [==============================] - 1s 3ms/step - loss: 1.3901 - accuracy: 0.5031 - val_loss: 1.5202 - val_accuracy: 0.4637\n",
            "Epoch 41/100\n",
            "400/400 [==============================] - 1s 4ms/step - loss: 1.3786 - accuracy: 0.5085 - val_loss: 1.5070 - val_accuracy: 0.4689\n",
            "Epoch 42/100\n",
            "400/400 [==============================] - 1s 3ms/step - loss: 1.3808 - accuracy: 0.5058 - val_loss: 1.5153 - val_accuracy: 0.4631\n",
            "Epoch 43/100\n",
            "400/400 [==============================] - 1s 3ms/step - loss: 1.3751 - accuracy: 0.5080 - val_loss: 1.5573 - val_accuracy: 0.4499\n",
            "Epoch 44/100\n",
            "400/400 [==============================] - 1s 3ms/step - loss: 1.3722 - accuracy: 0.5088 - val_loss: 1.4932 - val_accuracy: 0.4768\n",
            "Epoch 45/100\n",
            "400/400 [==============================] - 1s 3ms/step - loss: 1.3700 - accuracy: 0.5093 - val_loss: 1.5040 - val_accuracy: 0.4682\n",
            "Epoch 46/100\n",
            "400/400 [==============================] - 1s 4ms/step - loss: 1.3732 - accuracy: 0.5086 - val_loss: 1.5027 - val_accuracy: 0.4709\n",
            "Epoch 47/100\n",
            "400/400 [==============================] - 1s 4ms/step - loss: 1.3686 - accuracy: 0.5113 - val_loss: 1.5318 - val_accuracy: 0.4619\n",
            "Epoch 48/100\n",
            "400/400 [==============================] - 1s 3ms/step - loss: 1.3649 - accuracy: 0.5129 - val_loss: 1.5548 - val_accuracy: 0.4446\n",
            "Epoch 49/100\n",
            "400/400 [==============================] - 1s 3ms/step - loss: 1.3640 - accuracy: 0.5127 - val_loss: 1.4956 - val_accuracy: 0.4744\n",
            "Epoch 50/100\n",
            "400/400 [==============================] - 1s 3ms/step - loss: 1.3588 - accuracy: 0.5136 - val_loss: 1.5302 - val_accuracy: 0.4565\n",
            "Epoch 51/100\n",
            "400/400 [==============================] - 1s 3ms/step - loss: 1.3619 - accuracy: 0.5147 - val_loss: 1.4867 - val_accuracy: 0.4758\n",
            "Epoch 52/100\n",
            "400/400 [==============================] - 1s 3ms/step - loss: 1.3553 - accuracy: 0.5167 - val_loss: 1.4901 - val_accuracy: 0.4817\n",
            "Epoch 53/100\n",
            "400/400 [==============================] - 1s 3ms/step - loss: 1.3587 - accuracy: 0.5145 - val_loss: 1.5084 - val_accuracy: 0.4701\n",
            "Epoch 54/100\n",
            "400/400 [==============================] - 1s 3ms/step - loss: 1.3526 - accuracy: 0.5167 - val_loss: 1.5080 - val_accuracy: 0.4695\n",
            "Epoch 55/100\n",
            "400/400 [==============================] - 1s 3ms/step - loss: 1.3565 - accuracy: 0.5135 - val_loss: 1.4849 - val_accuracy: 0.4825\n",
            "Epoch 56/100\n",
            "400/400 [==============================] - 1s 3ms/step - loss: 1.3483 - accuracy: 0.5158 - val_loss: 1.5060 - val_accuracy: 0.4731\n",
            "Epoch 57/100\n",
            "400/400 [==============================] - 1s 3ms/step - loss: 1.3481 - accuracy: 0.5196 - val_loss: 1.5056 - val_accuracy: 0.4671\n",
            "Epoch 58/100\n",
            "400/400 [==============================] - 1s 3ms/step - loss: 1.3502 - accuracy: 0.5173 - val_loss: 1.4892 - val_accuracy: 0.4787\n",
            "Epoch 59/100\n",
            "400/400 [==============================] - 1s 3ms/step - loss: 1.3437 - accuracy: 0.5208 - val_loss: 1.4873 - val_accuracy: 0.4753\n",
            "Epoch 60/100\n",
            "400/400 [==============================] - 1s 3ms/step - loss: 1.3428 - accuracy: 0.5201 - val_loss: 1.5031 - val_accuracy: 0.4710\n",
            "Epoch 61/100\n",
            "400/400 [==============================] - 1s 4ms/step - loss: 1.3406 - accuracy: 0.5213 - val_loss: 1.5337 - val_accuracy: 0.4627\n",
            "Epoch 62/100\n",
            "400/400 [==============================] - 1s 3ms/step - loss: 1.3391 - accuracy: 0.5207 - val_loss: 1.4962 - val_accuracy: 0.4763\n",
            "Epoch 63/100\n",
            "400/400 [==============================] - 1s 3ms/step - loss: 1.3317 - accuracy: 0.5249 - val_loss: 1.4854 - val_accuracy: 0.4777\n",
            "Epoch 64/100\n",
            "400/400 [==============================] - 1s 3ms/step - loss: 1.3369 - accuracy: 0.5205 - val_loss: 1.5186 - val_accuracy: 0.4677\n",
            "Epoch 65/100\n",
            "400/400 [==============================] - 1s 3ms/step - loss: 1.3345 - accuracy: 0.5212 - val_loss: 1.5058 - val_accuracy: 0.4723\n",
            "Epoch 66/100\n",
            "400/400 [==============================] - 1s 3ms/step - loss: 1.3276 - accuracy: 0.5239 - val_loss: 1.4827 - val_accuracy: 0.4805\n",
            "Epoch 67/100\n",
            "400/400 [==============================] - 1s 3ms/step - loss: 1.3310 - accuracy: 0.5242 - val_loss: 1.5225 - val_accuracy: 0.4666\n",
            "Epoch 68/100\n",
            "400/400 [==============================] - 1s 3ms/step - loss: 1.3290 - accuracy: 0.5236 - val_loss: 1.5234 - val_accuracy: 0.4699\n",
            "Epoch 69/100\n",
            "400/400 [==============================] - 1s 3ms/step - loss: 1.3296 - accuracy: 0.5236 - val_loss: 1.5129 - val_accuracy: 0.4680\n",
            "Epoch 70/100\n",
            "400/400 [==============================] - 1s 3ms/step - loss: 1.3269 - accuracy: 0.5259 - val_loss: 1.5193 - val_accuracy: 0.4650\n",
            "Epoch 71/100\n",
            "400/400 [==============================] - 1s 3ms/step - loss: 1.3309 - accuracy: 0.5234 - val_loss: 1.5036 - val_accuracy: 0.4719\n",
            "Epoch 72/100\n",
            "400/400 [==============================] - 1s 3ms/step - loss: 1.3289 - accuracy: 0.5242 - val_loss: 1.4910 - val_accuracy: 0.4783\n",
            "Epoch 73/100\n",
            "400/400 [==============================] - 1s 3ms/step - loss: 1.3273 - accuracy: 0.5248 - val_loss: 1.4966 - val_accuracy: 0.4726\n",
            "Epoch 74/100\n",
            "400/400 [==============================] - 1s 3ms/step - loss: 1.3210 - accuracy: 0.5281 - val_loss: 1.4907 - val_accuracy: 0.4762\n",
            "Epoch 75/100\n",
            "400/400 [==============================] - 1s 3ms/step - loss: 1.3238 - accuracy: 0.5246 - val_loss: 1.5397 - val_accuracy: 0.4592\n",
            "Epoch 76/100\n",
            "400/400 [==============================] - 1s 3ms/step - loss: 1.3249 - accuracy: 0.5238 - val_loss: 1.5054 - val_accuracy: 0.4707\n",
            "Epoch 77/100\n",
            "400/400 [==============================] - 1s 3ms/step - loss: 1.3217 - accuracy: 0.5275 - val_loss: 1.5073 - val_accuracy: 0.4684\n",
            "Epoch 78/100\n",
            "400/400 [==============================] - 1s 3ms/step - loss: 1.3165 - accuracy: 0.5268 - val_loss: 1.4848 - val_accuracy: 0.4778\n",
            "Epoch 79/100\n",
            "400/400 [==============================] - 1s 3ms/step - loss: 1.3115 - accuracy: 0.5296 - val_loss: 1.5152 - val_accuracy: 0.4712\n",
            "Epoch 80/100\n",
            "400/400 [==============================] - 1s 3ms/step - loss: 1.3180 - accuracy: 0.5279 - val_loss: 1.5471 - val_accuracy: 0.4588\n",
            "Epoch 81/100\n",
            "400/400 [==============================] - 1s 3ms/step - loss: 1.3154 - accuracy: 0.5272 - val_loss: 1.5258 - val_accuracy: 0.4684\n",
            "Epoch 82/100\n",
            "400/400 [==============================] - 1s 3ms/step - loss: 1.3145 - accuracy: 0.5284 - val_loss: 1.5500 - val_accuracy: 0.4610\n",
            "Epoch 83/100\n",
            "400/400 [==============================] - 1s 4ms/step - loss: 1.3099 - accuracy: 0.5305 - val_loss: 1.5237 - val_accuracy: 0.4676\n",
            "Epoch 84/100\n",
            "400/400 [==============================] - 1s 3ms/step - loss: 1.3104 - accuracy: 0.5307 - val_loss: 1.4947 - val_accuracy: 0.4770\n",
            "Epoch 85/100\n",
            "400/400 [==============================] - 1s 4ms/step - loss: 1.3084 - accuracy: 0.5302 - val_loss: 1.5213 - val_accuracy: 0.4650\n",
            "Epoch 86/100\n",
            "400/400 [==============================] - 1s 3ms/step - loss: 1.3090 - accuracy: 0.5305 - val_loss: 1.5273 - val_accuracy: 0.4662\n",
            "Epoch 87/100\n",
            "400/400 [==============================] - 1s 3ms/step - loss: 1.3025 - accuracy: 0.5326 - val_loss: 1.4910 - val_accuracy: 0.4761\n",
            "Epoch 88/100\n",
            "400/400 [==============================] - 1s 3ms/step - loss: 1.3041 - accuracy: 0.5311 - val_loss: 1.4962 - val_accuracy: 0.4778\n",
            "Epoch 89/100\n",
            "400/400 [==============================] - 1s 4ms/step - loss: 1.3014 - accuracy: 0.5339 - val_loss: 1.5289 - val_accuracy: 0.4570\n",
            "Epoch 90/100\n",
            "400/400 [==============================] - 1s 3ms/step - loss: 1.3045 - accuracy: 0.5315 - val_loss: 1.5043 - val_accuracy: 0.4772\n",
            "Epoch 91/100\n",
            "400/400 [==============================] - 1s 3ms/step - loss: 1.3017 - accuracy: 0.5323 - val_loss: 1.5137 - val_accuracy: 0.4691\n",
            "Epoch 92/100\n",
            "400/400 [==============================] - 1s 4ms/step - loss: 1.2983 - accuracy: 0.5331 - val_loss: 1.5035 - val_accuracy: 0.4742\n",
            "Epoch 93/100\n",
            "400/400 [==============================] - 1s 3ms/step - loss: 1.2998 - accuracy: 0.5336 - val_loss: 1.4822 - val_accuracy: 0.4828\n",
            "Epoch 94/100\n",
            "400/400 [==============================] - 1s 3ms/step - loss: 1.2985 - accuracy: 0.5349 - val_loss: 1.4944 - val_accuracy: 0.4753\n",
            "Epoch 95/100\n",
            "400/400 [==============================] - 1s 4ms/step - loss: 1.2969 - accuracy: 0.5338 - val_loss: 1.5172 - val_accuracy: 0.4703\n",
            "Epoch 96/100\n",
            "400/400 [==============================] - 1s 4ms/step - loss: 1.2954 - accuracy: 0.5376 - val_loss: 1.5024 - val_accuracy: 0.4772\n",
            "Epoch 97/100\n",
            "400/400 [==============================] - 1s 4ms/step - loss: 1.2959 - accuracy: 0.5370 - val_loss: 1.4911 - val_accuracy: 0.4803\n",
            "Epoch 98/100\n",
            "400/400 [==============================] - 1s 4ms/step - loss: 1.2988 - accuracy: 0.5342 - val_loss: 1.5182 - val_accuracy: 0.4693\n",
            "Epoch 99/100\n",
            "400/400 [==============================] - 1s 3ms/step - loss: 1.2947 - accuracy: 0.5364 - val_loss: 1.5178 - val_accuracy: 0.4689\n",
            "Epoch 100/100\n",
            "400/400 [==============================] - 1s 3ms/step - loss: 1.2910 - accuracy: 0.5369 - val_loss: 1.5173 - val_accuracy: 0.4702\n",
            "100/100 [==============================] - 0s 2ms/step - loss: 1.5222 - accuracy: 0.4691\n",
            "Test Loss and Accuracy -> [1.5222057104110718, 0.4690999984741211]\n"
          ],
          "name": "stdout"
        }
      ]
    },
    {
      "cell_type": "code",
      "metadata": {
        "colab": {
          "base_uri": "https://localhost:8080/",
          "height": 541
        },
        "id": "vnZ8N63Teo9A",
        "outputId": "4e08e2bd-74b2-4aed-c500-f7245d29f83c"
      },
      "source": [
        "plot_acc(history)\n",
        "plt.show()\n",
        "plot_loss(history)\n",
        "plt.show()"
      ],
      "execution_count": 12,
      "outputs": [
        {
          "output_type": "display_data",
          "data": {
            "image/png": "[encoded data removed]",
            "text/plain": [
              "<Figure size 432x288 with 1 Axes>"
            ]
          },
          "metadata": {
            "tags": [],
            "needs_background": "light"
          }
        },
        {
          "output_type": "display_data",
          "data": {
            "image/png": "[encoded data removed]",
            "text/plain": [
              "<Figure size 432x288 with 1 Axes>"
            ]
          },
          "metadata": {
            "tags": [],
            "needs_background": "light"
          }
        }
      ]
    },
    {
      "cell_type": "code",
      "metadata": {
        "colab": {
          "base_uri": "https://localhost:8080/"
        },
        "id": "inzsz4cFgBzC",
        "outputId": "ed660320-35ff-4b6e-d48c-d8016f042d3a"
      },
      "source": [
        "Nh_l = [100, 50]\n",
        "Pd_l = [0.05, 0.5]\n",
        "number_of_class = 10\n",
        "Nout = number_of_class\n",
        "\n",
        "(X_train, Y_train), (X_test, Y_test) = Data_func()\n",
        "model = DNN(X_train.shape[1], Nh_l, Pd_l, Nout)\n",
        "history = model.fit(X_train, Y_train, epochs=100, batch_size=100, validation_split=0.2)\n",
        "\n",
        "performance_test = model.evaluate(X_test, Y_test, batch_size=100)\n",
        "print('Test Loss and Accuracy ->', performance_test)"
      ],
      "execution_count": 13,
      "outputs": [
        {
          "output_type": "stream",
          "text": [
            "Epoch 1/100\n",
            "400/400 [==============================] - 2s 3ms/step - loss: 2.1148 - accuracy: 0.2060 - val_loss: 1.9086 - val_accuracy: 0.3004\n",
            "Epoch 2/100\n",
            "400/400 [==============================] - 1s 3ms/step - loss: 1.9373 - accuracy: 0.2869 - val_loss: 1.8335 - val_accuracy: 0.3375\n",
            "Epoch 3/100\n",
            "400/400 [==============================] - 1s 3ms/step - loss: 1.8762 - accuracy: 0.3155 - val_loss: 1.8139 - val_accuracy: 0.3426\n",
            "Epoch 4/100\n",
            "400/400 [==============================] - 1s 3ms/step - loss: 1.8582 - accuracy: 0.3240 - val_loss: 1.7717 - val_accuracy: 0.3636\n",
            "Epoch 5/100\n",
            "400/400 [==============================] - 1s 3ms/step - loss: 1.8378 - accuracy: 0.3374 - val_loss: 1.7721 - val_accuracy: 0.3616\n",
            "Epoch 6/100\n",
            "400/400 [==============================] - 1s 3ms/step - loss: 1.8271 - accuracy: 0.3393 - val_loss: 1.7686 - val_accuracy: 0.3660\n",
            "Epoch 7/100\n",
            "400/400 [==============================] - 1s 3ms/step - loss: 1.8078 - accuracy: 0.3485 - val_loss: 1.7624 - val_accuracy: 0.3664\n",
            "Epoch 8/100\n",
            "400/400 [==============================] - 1s 3ms/step - loss: 1.8037 - accuracy: 0.3514 - val_loss: 1.7272 - val_accuracy: 0.3814\n",
            "Epoch 9/100\n",
            "400/400 [==============================] - 1s 3ms/step - loss: 1.7883 - accuracy: 0.3571 - val_loss: 1.7267 - val_accuracy: 0.3812\n",
            "Epoch 10/100\n",
            "400/400 [==============================] - 1s 3ms/step - loss: 1.7761 - accuracy: 0.3620 - val_loss: 1.7297 - val_accuracy: 0.3795\n",
            "Epoch 11/100\n",
            "400/400 [==============================] - 1s 3ms/step - loss: 1.7719 - accuracy: 0.3685 - val_loss: 1.7319 - val_accuracy: 0.3770\n",
            "Epoch 12/100\n",
            "400/400 [==============================] - 1s 3ms/step - loss: 1.7595 - accuracy: 0.3713 - val_loss: 1.6913 - val_accuracy: 0.3990\n",
            "Epoch 13/100\n",
            "400/400 [==============================] - 1s 3ms/step - loss: 1.7574 - accuracy: 0.3743 - val_loss: 1.6951 - val_accuracy: 0.3909\n",
            "Epoch 14/100\n",
            "400/400 [==============================] - 1s 3ms/step - loss: 1.7492 - accuracy: 0.3747 - val_loss: 1.6796 - val_accuracy: 0.4002\n",
            "Epoch 15/100\n",
            "400/400 [==============================] - 1s 3ms/step - loss: 1.7434 - accuracy: 0.3791 - val_loss: 1.6957 - val_accuracy: 0.3969\n",
            "Epoch 16/100\n",
            "400/400 [==============================] - 1s 3ms/step - loss: 1.7360 - accuracy: 0.3840 - val_loss: 1.6783 - val_accuracy: 0.4035\n",
            "Epoch 17/100\n",
            "400/400 [==============================] - 1s 3ms/step - loss: 1.7284 - accuracy: 0.3839 - val_loss: 1.6771 - val_accuracy: 0.3973\n",
            "Epoch 18/100\n",
            "400/400 [==============================] - 1s 3ms/step - loss: 1.7240 - accuracy: 0.3873 - val_loss: 1.6731 - val_accuracy: 0.4076\n",
            "Epoch 19/100\n",
            "400/400 [==============================] - 1s 3ms/step - loss: 1.7174 - accuracy: 0.3895 - val_loss: 1.7003 - val_accuracy: 0.3906\n",
            "Epoch 20/100\n",
            "400/400 [==============================] - 1s 3ms/step - loss: 1.7166 - accuracy: 0.3889 - val_loss: 1.6794 - val_accuracy: 0.4027\n",
            "Epoch 21/100\n",
            "400/400 [==============================] - 1s 3ms/step - loss: 1.7168 - accuracy: 0.3865 - val_loss: 1.6679 - val_accuracy: 0.4043\n",
            "Epoch 22/100\n",
            "400/400 [==============================] - 1s 3ms/step - loss: 1.7042 - accuracy: 0.3937 - val_loss: 1.6712 - val_accuracy: 0.4004\n",
            "Epoch 23/100\n",
            "400/400 [==============================] - 1s 4ms/step - loss: 1.7091 - accuracy: 0.3927 - val_loss: 1.6638 - val_accuracy: 0.4104\n",
            "Epoch 24/100\n",
            "400/400 [==============================] - 1s 3ms/step - loss: 1.7075 - accuracy: 0.3945 - val_loss: 1.6711 - val_accuracy: 0.4016\n",
            "Epoch 25/100\n",
            "400/400 [==============================] - 1s 3ms/step - loss: 1.7088 - accuracy: 0.3921 - val_loss: 1.6844 - val_accuracy: 0.3905\n",
            "Epoch 26/100\n",
            "400/400 [==============================] - 1s 3ms/step - loss: 1.7006 - accuracy: 0.3944 - val_loss: 1.6632 - val_accuracy: 0.4043\n",
            "Epoch 27/100\n",
            "400/400 [==============================] - 1s 3ms/step - loss: 1.7080 - accuracy: 0.3941 - val_loss: 1.6502 - val_accuracy: 0.4054\n",
            "Epoch 28/100\n",
            "400/400 [==============================] - 1s 3ms/step - loss: 1.7023 - accuracy: 0.3974 - val_loss: 1.6578 - val_accuracy: 0.4051\n",
            "Epoch 29/100\n",
            "400/400 [==============================] - 1s 3ms/step - loss: 1.6980 - accuracy: 0.3986 - val_loss: 1.6602 - val_accuracy: 0.3984\n",
            "Epoch 30/100\n",
            "400/400 [==============================] - 1s 3ms/step - loss: 1.6944 - accuracy: 0.3984 - val_loss: 1.6652 - val_accuracy: 0.3945\n",
            "Epoch 31/100\n",
            "400/400 [==============================] - 2s 4ms/step - loss: 1.6924 - accuracy: 0.3991 - val_loss: 1.6781 - val_accuracy: 0.3950\n",
            "Epoch 32/100\n",
            "400/400 [==============================] - 1s 3ms/step - loss: 1.6879 - accuracy: 0.4034 - val_loss: 1.6872 - val_accuracy: 0.3903\n",
            "Epoch 33/100\n",
            "400/400 [==============================] - 2s 4ms/step - loss: 1.6947 - accuracy: 0.3989 - val_loss: 1.6583 - val_accuracy: 0.4115\n",
            "Epoch 34/100\n",
            "400/400 [==============================] - 1s 3ms/step - loss: 1.6855 - accuracy: 0.3995 - val_loss: 1.6315 - val_accuracy: 0.4144\n",
            "Epoch 35/100\n",
            "400/400 [==============================] - 1s 3ms/step - loss: 1.6840 - accuracy: 0.4007 - val_loss: 1.6623 - val_accuracy: 0.4078\n",
            "Epoch 36/100\n",
            "400/400 [==============================] - 1s 4ms/step - loss: 1.6839 - accuracy: 0.4021 - val_loss: 1.6582 - val_accuracy: 0.4047\n",
            "Epoch 37/100\n",
            "400/400 [==============================] - 1s 4ms/step - loss: 1.6831 - accuracy: 0.4007 - val_loss: 1.6607 - val_accuracy: 0.3984\n",
            "Epoch 38/100\n",
            "400/400 [==============================] - 1s 4ms/step - loss: 1.6835 - accuracy: 0.4025 - val_loss: 1.6710 - val_accuracy: 0.4019\n",
            "Epoch 39/100\n",
            "400/400 [==============================] - 1s 3ms/step - loss: 1.6793 - accuracy: 0.4045 - val_loss: 1.6586 - val_accuracy: 0.4009\n",
            "Epoch 40/100\n",
            "400/400 [==============================] - 1s 3ms/step - loss: 1.6786 - accuracy: 0.4036 - val_loss: 1.6417 - val_accuracy: 0.4081\n",
            "Epoch 41/100\n",
            "400/400 [==============================] - 1s 4ms/step - loss: 1.6778 - accuracy: 0.4032 - val_loss: 1.6398 - val_accuracy: 0.4155\n",
            "Epoch 42/100\n",
            "400/400 [==============================] - 1s 3ms/step - loss: 1.6740 - accuracy: 0.4059 - val_loss: 1.6633 - val_accuracy: 0.3971\n",
            "Epoch 43/100\n",
            "400/400 [==============================] - 1s 3ms/step - loss: 1.6794 - accuracy: 0.4005 - val_loss: 1.6529 - val_accuracy: 0.4105\n",
            "Epoch 44/100\n",
            "400/400 [==============================] - 1s 3ms/step - loss: 1.6788 - accuracy: 0.4034 - val_loss: 1.6458 - val_accuracy: 0.4096\n",
            "Epoch 45/100\n",
            "400/400 [==============================] - 1s 3ms/step - loss: 1.6677 - accuracy: 0.4085 - val_loss: 1.6552 - val_accuracy: 0.4017\n",
            "Epoch 46/100\n",
            "400/400 [==============================] - 1s 3ms/step - loss: 1.6729 - accuracy: 0.4064 - val_loss: 1.6425 - val_accuracy: 0.4101\n",
            "Epoch 47/100\n",
            "400/400 [==============================] - 1s 4ms/step - loss: 1.6661 - accuracy: 0.4087 - val_loss: 1.6231 - val_accuracy: 0.4191\n",
            "Epoch 48/100\n",
            "400/400 [==============================] - 1s 4ms/step - loss: 1.6664 - accuracy: 0.4078 - val_loss: 1.6557 - val_accuracy: 0.4071\n",
            "Epoch 49/100\n",
            "400/400 [==============================] - 1s 3ms/step - loss: 1.6610 - accuracy: 0.4085 - val_loss: 1.6446 - val_accuracy: 0.4078\n",
            "Epoch 50/100\n",
            "400/400 [==============================] - 1s 4ms/step - loss: 1.6628 - accuracy: 0.4098 - val_loss: 1.6246 - val_accuracy: 0.4138\n",
            "Epoch 51/100\n",
            "400/400 [==============================] - 1s 3ms/step - loss: 1.6676 - accuracy: 0.4055 - val_loss: 1.6619 - val_accuracy: 0.4059\n",
            "Epoch 52/100\n",
            "400/400 [==============================] - 1s 3ms/step - loss: 1.6657 - accuracy: 0.4064 - val_loss: 1.6435 - val_accuracy: 0.4100\n",
            "Epoch 53/100\n",
            "400/400 [==============================] - 1s 4ms/step - loss: 1.6625 - accuracy: 0.4081 - val_loss: 1.6397 - val_accuracy: 0.4080\n",
            "Epoch 54/100\n",
            "400/400 [==============================] - 1s 4ms/step - loss: 1.6575 - accuracy: 0.4098 - val_loss: 1.6420 - val_accuracy: 0.4043\n",
            "Epoch 55/100\n",
            "400/400 [==============================] - 1s 3ms/step - loss: 1.6590 - accuracy: 0.4100 - val_loss: 1.6362 - val_accuracy: 0.4153\n",
            "Epoch 56/100\n",
            "400/400 [==============================] - 1s 3ms/step - loss: 1.6627 - accuracy: 0.4101 - val_loss: 1.6343 - val_accuracy: 0.4149\n",
            "Epoch 57/100\n",
            "400/400 [==============================] - 1s 4ms/step - loss: 1.6594 - accuracy: 0.4137 - val_loss: 1.6357 - val_accuracy: 0.4141\n",
            "Epoch 58/100\n",
            "400/400 [==============================] - 1s 3ms/step - loss: 1.6531 - accuracy: 0.4127 - val_loss: 1.6411 - val_accuracy: 0.4111\n",
            "Epoch 59/100\n",
            "400/400 [==============================] - 1s 4ms/step - loss: 1.6523 - accuracy: 0.4101 - val_loss: 1.6536 - val_accuracy: 0.4085\n",
            "Epoch 60/100\n",
            "400/400 [==============================] - 1s 4ms/step - loss: 1.6595 - accuracy: 0.4099 - val_loss: 1.6500 - val_accuracy: 0.4044\n",
            "Epoch 61/100\n",
            "400/400 [==============================] - 1s 3ms/step - loss: 1.6561 - accuracy: 0.4133 - val_loss: 1.6309 - val_accuracy: 0.4079\n",
            "Epoch 62/100\n",
            "400/400 [==============================] - 1s 3ms/step - loss: 1.6498 - accuracy: 0.4133 - val_loss: 1.6584 - val_accuracy: 0.4067\n",
            "Epoch 63/100\n",
            "400/400 [==============================] - 1s 3ms/step - loss: 1.6523 - accuracy: 0.4153 - val_loss: 1.6249 - val_accuracy: 0.4185\n",
            "Epoch 64/100\n",
            "400/400 [==============================] - 1s 3ms/step - loss: 1.6460 - accuracy: 0.4159 - val_loss: 1.6419 - val_accuracy: 0.4074\n",
            "Epoch 65/100\n",
            "400/400 [==============================] - 1s 3ms/step - loss: 1.6470 - accuracy: 0.4139 - val_loss: 1.6330 - val_accuracy: 0.4107\n",
            "Epoch 66/100\n",
            "400/400 [==============================] - 1s 3ms/step - loss: 1.6401 - accuracy: 0.4178 - val_loss: 1.6433 - val_accuracy: 0.4065\n",
            "Epoch 67/100\n",
            "400/400 [==============================] - 1s 4ms/step - loss: 1.6490 - accuracy: 0.4158 - val_loss: 1.6377 - val_accuracy: 0.4095\n",
            "Epoch 68/100\n",
            "400/400 [==============================] - 1s 3ms/step - loss: 1.6543 - accuracy: 0.4131 - val_loss: 1.6614 - val_accuracy: 0.4065\n",
            "Epoch 69/100\n",
            "400/400 [==============================] - 1s 3ms/step - loss: 1.6510 - accuracy: 0.4115 - val_loss: 1.6714 - val_accuracy: 0.3989\n",
            "Epoch 70/100\n",
            "400/400 [==============================] - 1s 3ms/step - loss: 1.6409 - accuracy: 0.4174 - val_loss: 1.6364 - val_accuracy: 0.4089\n",
            "Epoch 71/100\n",
            "400/400 [==============================] - 1s 3ms/step - loss: 1.6506 - accuracy: 0.4135 - val_loss: 1.6388 - val_accuracy: 0.4134\n",
            "Epoch 72/100\n",
            "400/400 [==============================] - 1s 3ms/step - loss: 1.6438 - accuracy: 0.4146 - val_loss: 1.6452 - val_accuracy: 0.4100\n",
            "Epoch 73/100\n",
            "400/400 [==============================] - 1s 3ms/step - loss: 1.6408 - accuracy: 0.4207 - val_loss: 1.6597 - val_accuracy: 0.4024\n",
            "Epoch 74/100\n",
            "400/400 [==============================] - 1s 3ms/step - loss: 1.6428 - accuracy: 0.4168 - val_loss: 1.6186 - val_accuracy: 0.4179\n",
            "Epoch 75/100\n",
            "400/400 [==============================] - 1s 4ms/step - loss: 1.6366 - accuracy: 0.4188 - val_loss: 1.6255 - val_accuracy: 0.4215\n",
            "Epoch 76/100\n",
            "400/400 [==============================] - 1s 3ms/step - loss: 1.6389 - accuracy: 0.4179 - val_loss: 1.6542 - val_accuracy: 0.4094\n",
            "Epoch 77/100\n",
            "400/400 [==============================] - 1s 3ms/step - loss: 1.6352 - accuracy: 0.4179 - val_loss: 1.6344 - val_accuracy: 0.4117\n",
            "Epoch 78/100\n",
            "400/400 [==============================] - 1s 3ms/step - loss: 1.6345 - accuracy: 0.4200 - val_loss: 1.6246 - val_accuracy: 0.4156\n",
            "Epoch 79/100\n",
            "400/400 [==============================] - 1s 3ms/step - loss: 1.6313 - accuracy: 0.4220 - val_loss: 1.6243 - val_accuracy: 0.4212\n",
            "Epoch 80/100\n",
            "400/400 [==============================] - 1s 3ms/step - loss: 1.6384 - accuracy: 0.4157 - val_loss: 1.6564 - val_accuracy: 0.4080\n",
            "Epoch 81/100\n",
            "400/400 [==============================] - 1s 3ms/step - loss: 1.6330 - accuracy: 0.4175 - val_loss: 1.6433 - val_accuracy: 0.4079\n",
            "Epoch 82/100\n",
            "400/400 [==============================] - 1s 3ms/step - loss: 1.6335 - accuracy: 0.4195 - val_loss: 1.6314 - val_accuracy: 0.4109\n",
            "Epoch 83/100\n",
            "400/400 [==============================] - 1s 3ms/step - loss: 1.6379 - accuracy: 0.4191 - val_loss: 1.6203 - val_accuracy: 0.4203\n",
            "Epoch 84/100\n",
            "400/400 [==============================] - 1s 3ms/step - loss: 1.6325 - accuracy: 0.4198 - val_loss: 1.6249 - val_accuracy: 0.4228\n",
            "Epoch 85/100\n",
            "400/400 [==============================] - 1s 3ms/step - loss: 1.6313 - accuracy: 0.4211 - val_loss: 1.6289 - val_accuracy: 0.4188\n",
            "Epoch 86/100\n",
            "400/400 [==============================] - 1s 3ms/step - loss: 1.6312 - accuracy: 0.4188 - val_loss: 1.6307 - val_accuracy: 0.4124\n",
            "Epoch 87/100\n",
            "400/400 [==============================] - 1s 3ms/step - loss: 1.6250 - accuracy: 0.4214 - val_loss: 1.6249 - val_accuracy: 0.4142\n",
            "Epoch 88/100\n",
            "400/400 [==============================] - 1s 3ms/step - loss: 1.6300 - accuracy: 0.4209 - val_loss: 1.6500 - val_accuracy: 0.4070\n",
            "Epoch 89/100\n",
            "400/400 [==============================] - 1s 3ms/step - loss: 1.6305 - accuracy: 0.4217 - val_loss: 1.6203 - val_accuracy: 0.4231\n",
            "Epoch 90/100\n",
            "400/400 [==============================] - 1s 3ms/step - loss: 1.6314 - accuracy: 0.4195 - val_loss: 1.6223 - val_accuracy: 0.4205\n",
            "Epoch 91/100\n",
            "400/400 [==============================] - 1s 3ms/step - loss: 1.6362 - accuracy: 0.4172 - val_loss: 1.6389 - val_accuracy: 0.4128\n",
            "Epoch 92/100\n",
            "400/400 [==============================] - 1s 3ms/step - loss: 1.6272 - accuracy: 0.4232 - val_loss: 1.6596 - val_accuracy: 0.4021\n",
            "Epoch 93/100\n",
            "400/400 [==============================] - 1s 3ms/step - loss: 1.6253 - accuracy: 0.4229 - val_loss: 1.6185 - val_accuracy: 0.4258\n",
            "Epoch 94/100\n",
            "400/400 [==============================] - 1s 3ms/step - loss: 1.6310 - accuracy: 0.4224 - val_loss: 1.6139 - val_accuracy: 0.4228\n",
            "Epoch 95/100\n",
            "400/400 [==============================] - 1s 3ms/step - loss: 1.6309 - accuracy: 0.4180 - val_loss: 1.6426 - val_accuracy: 0.4040\n",
            "Epoch 96/100\n",
            "400/400 [==============================] - 1s 3ms/step - loss: 1.6233 - accuracy: 0.4226 - val_loss: 1.6158 - val_accuracy: 0.4218\n",
            "Epoch 97/100\n",
            "400/400 [==============================] - 1s 4ms/step - loss: 1.6280 - accuracy: 0.4204 - val_loss: 1.6215 - val_accuracy: 0.4218\n",
            "Epoch 98/100\n",
            "400/400 [==============================] - 1s 3ms/step - loss: 1.6298 - accuracy: 0.4202 - val_loss: 1.6294 - val_accuracy: 0.4165\n",
            "Epoch 99/100\n",
            "400/400 [==============================] - 1s 4ms/step - loss: 1.6289 - accuracy: 0.4252 - val_loss: 1.6299 - val_accuracy: 0.4148\n",
            "Epoch 100/100\n",
            "400/400 [==============================] - 1s 4ms/step - loss: 1.6283 - accuracy: 0.4232 - val_loss: 1.6344 - val_accuracy: 0.4177\n",
            "100/100 [==============================] - 0s 2ms/step - loss: 1.6225 - accuracy: 0.4244\n",
            "Test Loss and Accuracy -> [1.6224610805511475, 0.4244000017642975]\n"
          ],
          "name": "stdout"
        }
      ]
    },
    {
      "cell_type": "code",
      "metadata": {
        "colab": {
          "base_uri": "https://localhost:8080/",
          "height": 541
        },
        "id": "VMROqUbdgCBH",
        "outputId": "6cdedb13-6472-4b1f-f2b4-c4ed3755b03a"
      },
      "source": [
        "plot_acc(history)\n",
        "plt.show()\n",
        "plot_loss(history)\n",
        "plt.show()"
      ],
      "execution_count": 14,
      "outputs": [
        {
          "output_type": "display_data",
          "data": {
            "image/png": "[encoded data removed]",
            "text/plain": [
              "<Figure size 432x288 with 1 Axes>"
            ]
          },
          "metadata": {
            "tags": [],
            "needs_background": "light"
          }
        },
        {
          "output_type": "display_data",
          "data": {
            "image/png": "[encoded data removed]",
            "text/plain": [
              "<Figure size 432x288 with 1 Axes>"
            ]
          },
          "metadata": {
            "tags": [],
            "needs_background": "light"
          }
        }
      ]
    }
  ]
}