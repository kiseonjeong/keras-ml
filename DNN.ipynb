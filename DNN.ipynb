{
  "nbformat": 4,
  "nbformat_minor": 0,
  "metadata": {
    "colab": {
      "name": "DNN.ipynb",
      "provenance": [],
      "collapsed_sections": [],
      "mount_file_id": "1tP4g-ZPKKz-kk-z32vpbmGlD2DOjFWft",
      "authorship_tag": "ABX9TyPFZ25EIZ29VDHS1qYXkqy4",
      "include_colab_link": true
    },
    "kernelspec": {
      "name": "python3",
      "display_name": "Python 3"
    },
    "language_info": {
      "name": "python"
    },
    "accelerator": "GPU"
  },
  "cells": [
    {
      "cell_type": "markdown",
      "metadata": {
        "id": "view-in-github",
        "colab_type": "text"
      },
      "source": [
        "<a href=\"https://colab.research.google.com/github/kiseonjeong/keras-ml/blob/cnn-mnist/DNN.ipynb\" target=\"_parent\"><img src=\"https://colab.research.google.com/assets/colab-badge.svg\" alt=\"Open In Colab\"/></a>"
      ]
    },
    {
      "cell_type": "markdown",
      "metadata": {
        "id": "yuxtTXXyWg-c"
      },
      "source": [
        "# 필기체 분류"
      ]
    },
    {
      "cell_type": "code",
      "metadata": {
        "id": "D4KnQ65d8Apo"
      },
      "source": [
        "# 기본 파라미터 설정\n",
        "Nin = 784\n",
        "Nh_l = [100, 50]\n",
        "number_of_class = 10\n",
        "Nout = number_of_class"
      ],
      "execution_count": null,
      "outputs": []
    },
    {
      "cell_type": "code",
      "metadata": {
        "id": "l0y1jYdAWylh"
      },
      "source": [
        "from tensorflow.keras import layers, models"
      ],
      "execution_count": null,
      "outputs": []
    },
    {
      "cell_type": "code",
      "metadata": {
        "id": "o91f_8RNW50A"
      },
      "source": [
        "# 분류 DNN 모델 구현\n",
        "class DNN(models.Sequential):\n",
        "    def __init__(self, Nin, Nh_l, Nout):\n",
        "        super().__init__()\n",
        "        self.add(layers.Dense(Nh_l[0], activation='relu', input_shape=(Nin,), name='Hidden-1'))\n",
        "        self.add(layers.Dense(Nh_l[1], activation='relu', name='Hidden-2'))\n",
        "        self.add(layers.Dense(Nout, activation='softmax'))\n",
        "        self.compile(loss='categorical_crossentropy', optimizer='adam', metrics=['accuracy'])"
      ],
      "execution_count": null,
      "outputs": []
    },
    {
      "cell_type": "code",
      "metadata": {
        "id": "_4shEYZQXg0m"
      },
      "source": [
        "import numpy as np\n",
        "from tensorflow.keras import datasets, utils"
      ],
      "execution_count": null,
      "outputs": []
    },
    {
      "cell_type": "code",
      "metadata": {
        "colab": {
          "base_uri": "https://localhost:8080/"
        },
        "id": "yEUp0oyiYDwz",
        "outputId": "132710d1-7cfd-4b33-de6a-1957e5168a3f"
      },
      "source": [
        "# 데이터 준비\n",
        "(X_train, y_train), (X_test, y_test) = datasets.mnist.load_data()\n",
        "y_train = utils.to_categorical(y_train)\n",
        "y_test = utils.to_categorical(y_test)\n",
        "L, W, H = X_train.shape\n",
        "X_train = X_train.reshape(-1, W * H)\n",
        "X_test = X_test.reshape(-1, W * H)\n",
        "X_train = X_train / 255.0\n",
        "X_test = X_test / 255.0"
      ],
      "execution_count": null,
      "outputs": [
        {
          "output_type": "stream",
          "text": [
            "Downloading data from https://storage.googleapis.com/tensorflow/tf-keras-datasets/mnist.npz\n",
            "11493376/11490434 [==============================] - 0s 0us/step\n"
          ],
          "name": "stdout"
        }
      ]
    },
    {
      "cell_type": "code",
      "metadata": {
        "colab": {
          "base_uri": "https://localhost:8080/"
        },
        "id": "-61_wMJrYcQl",
        "outputId": "d24e88fd-61d2-49bd-c328-8d2bfdc063dc"
      },
      "source": [
        "# 분류 DNN 학습 및 성능 평가\n",
        "model = DNN(Nin, Nh_l, Nout)\n",
        "history = model.fit(X_train, y_train, epochs=10, batch_size=100, validation_split=0.2)\n",
        "performance_test = model.evaluate(X_test, y_test, batch_size=100)\n",
        "print('Test Loss and Accuracy ->', performance_test)"
      ],
      "execution_count": null,
      "outputs": [
        {
          "output_type": "stream",
          "text": [
            "Epoch 1/10\n",
            "480/480 [==============================] - 5s 3ms/step - loss: 0.3782 - accuracy: 0.8940 - val_loss: 0.1708 - val_accuracy: 0.9519\n",
            "Epoch 2/10\n",
            "480/480 [==============================] - 1s 3ms/step - loss: 0.1559 - accuracy: 0.9546 - val_loss: 0.1466 - val_accuracy: 0.9592\n",
            "Epoch 3/10\n",
            "480/480 [==============================] - 1s 3ms/step - loss: 0.1121 - accuracy: 0.9666 - val_loss: 0.1180 - val_accuracy: 0.9665\n",
            "Epoch 4/10\n",
            "480/480 [==============================] - 1s 3ms/step - loss: 0.0861 - accuracy: 0.9742 - val_loss: 0.1038 - val_accuracy: 0.9699\n",
            "Epoch 5/10\n",
            "480/480 [==============================] - 1s 3ms/step - loss: 0.0670 - accuracy: 0.9803 - val_loss: 0.1068 - val_accuracy: 0.9694\n",
            "Epoch 6/10\n",
            "480/480 [==============================] - 1s 3ms/step - loss: 0.0545 - accuracy: 0.9835 - val_loss: 0.0999 - val_accuracy: 0.9713\n",
            "Epoch 7/10\n",
            "480/480 [==============================] - 1s 3ms/step - loss: 0.0445 - accuracy: 0.9868 - val_loss: 0.0894 - val_accuracy: 0.9740\n",
            "Epoch 8/10\n",
            "480/480 [==============================] - 1s 3ms/step - loss: 0.0373 - accuracy: 0.9889 - val_loss: 0.0912 - val_accuracy: 0.9737\n",
            "Epoch 9/10\n",
            "480/480 [==============================] - 1s 3ms/step - loss: 0.0288 - accuracy: 0.9915 - val_loss: 0.0946 - val_accuracy: 0.9748\n",
            "Epoch 10/10\n",
            "480/480 [==============================] - 1s 3ms/step - loss: 0.0253 - accuracy: 0.9923 - val_loss: 0.1058 - val_accuracy: 0.9715\n",
            "100/100 [==============================] - 0s 2ms/step - loss: 0.0891 - accuracy: 0.9742\n",
            "Test Loss and Accuracy -> [0.08909682184457779, 0.9742000102996826]\n"
          ],
          "name": "stdout"
        }
      ]
    },
    {
      "cell_type": "markdown",
      "metadata": {
        "id": "l_BIfj4WarfF"
      },
      "source": [
        "# 컬러 이미지 분류"
      ]
    },
    {
      "cell_type": "code",
      "metadata": {
        "id": "dKwDd1-pdDcA"
      },
      "source": [
        "# 데이터 불러오기\n",
        "def Data_func():\n",
        "    (X_train, y_train), (X_test, y_test) = datasets.cifar10.load_data()\n",
        "\n",
        "    Y_train = utils.to_categorical(y_train)\n",
        "    Y_test = utils.to_categorical(y_test)\n",
        "\n",
        "    L, W, H, C = X_train.shape\n",
        "    X_train = X_train.reshape(-1, W * H * C)\n",
        "    X_test = X_test.reshape(-1, W * H * C)\n",
        "\n",
        "    X_train = X_train / 255.0\n",
        "    X_test = X_test / 255.0\n",
        "\n",
        "    return (X_train, Y_train), (X_test, Y_test)"
      ],
      "execution_count": null,
      "outputs": []
    },
    {
      "cell_type": "code",
      "metadata": {
        "id": "nj1E34HwdhwL"
      },
      "source": [
        "# DNN 모델링\n",
        "class DNN(models.Sequential):\n",
        "    def __init__(self, Nin, Nh_l, Pd_l, Nout):\n",
        "        super().__init__()\n",
        "\n",
        "        self.add(layers.Dense(Nh_l[0], activation='relu', input_shape=(Nin,), name='Hidden-1'))\n",
        "        self.add(layers.Dropout(Pd_l[0]))\n",
        "\n",
        "        self.add(layers.Dense(Nh_l[1], activation='relu', input_shape=(Nin,), name='Hidden-2'))\n",
        "        self.add(layers.Dropout(Pd_l[1]))\n",
        "\n",
        "        self.add(layers.Dense(Nout, activation='softmax'))\n",
        "        self.compile(loss='categorical_crossentropy', optimizer='adam', metrics=['accuracy'])"
      ],
      "execution_count": null,
      "outputs": []
    },
    {
      "cell_type": "code",
      "metadata": {
        "id": "Xe3I6q9IauWf"
      },
      "source": [
        "%run 'drive/MyDrive/Colab Notebooks/Keras/plot_history.ipynb'"
      ],
      "execution_count": null,
      "outputs": []
    },
    {
      "cell_type": "code",
      "metadata": {
        "id": "TB3kNnJSeGdq"
      },
      "source": [
        "import matplotlib.pyplot as plt"
      ],
      "execution_count": null,
      "outputs": []
    },
    {
      "cell_type": "code",
      "metadata": {
        "colab": {
          "base_uri": "https://localhost:8080/"
        },
        "id": "x9KDjOGkeOnQ",
        "outputId": "6c5af4be-ce52-45e6-aa1e-40229f3cbed2"
      },
      "source": [
        "Nh_l = [100, 50]\n",
        "Pd_l = [0.0, 0.0]\n",
        "number_of_class = 10\n",
        "Nout = number_of_class\n",
        "\n",
        "(X_train, Y_train), (X_test, Y_test) = Data_func()\n",
        "model = DNN(X_train.shape[1], Nh_l, Pd_l, Nout)\n",
        "history = model.fit(X_train, Y_train, epochs=100, batch_size=100, validation_split=0.2)\n",
        "\n",
        "performance_test = model.evaluate(X_test, Y_test, batch_size=100)\n",
        "print('Test Loss and Accuracy ->', performance_test)"
      ],
      "execution_count": null,
      "outputs": [
        {
          "output_type": "stream",
          "text": [
            "Downloading data from https://www.cs.toronto.edu/~kriz/cifar-10-python.tar.gz\n",
            "170500096/170498071 [==============================] - 4s 0us/step\n",
            "Epoch 1/100\n",
            "400/400 [==============================] - 2s 4ms/step - loss: 1.9088 - accuracy: 0.3110 - val_loss: 1.8277 - val_accuracy: 0.3357\n",
            "Epoch 2/100\n",
            "400/400 [==============================] - 1s 3ms/step - loss: 1.7497 - accuracy: 0.3758 - val_loss: 1.7822 - val_accuracy: 0.3594\n",
            "Epoch 3/100\n",
            "400/400 [==============================] - 1s 3ms/step - loss: 1.6782 - accuracy: 0.4010 - val_loss: 1.6890 - val_accuracy: 0.3977\n",
            "Epoch 4/100\n",
            "400/400 [==============================] - 1s 3ms/step - loss: 1.6328 - accuracy: 0.4183 - val_loss: 1.6463 - val_accuracy: 0.4111\n",
            "Epoch 5/100\n",
            "400/400 [==============================] - 1s 3ms/step - loss: 1.5960 - accuracy: 0.4317 - val_loss: 1.6452 - val_accuracy: 0.4125\n",
            "Epoch 6/100\n",
            "400/400 [==============================] - 1s 3ms/step - loss: 1.5690 - accuracy: 0.4385 - val_loss: 1.5980 - val_accuracy: 0.4345\n",
            "Epoch 7/100\n",
            "400/400 [==============================] - 1s 3ms/step - loss: 1.5410 - accuracy: 0.4518 - val_loss: 1.5797 - val_accuracy: 0.4368\n",
            "Epoch 8/100\n",
            "400/400 [==============================] - 1s 4ms/step - loss: 1.5267 - accuracy: 0.4549 - val_loss: 1.5767 - val_accuracy: 0.4423\n",
            "Epoch 9/100\n",
            "400/400 [==============================] - 1s 3ms/step - loss: 1.5096 - accuracy: 0.4607 - val_loss: 1.5861 - val_accuracy: 0.4390\n",
            "Epoch 10/100\n",
            "400/400 [==============================] - 1s 4ms/step - loss: 1.4912 - accuracy: 0.4672 - val_loss: 1.5344 - val_accuracy: 0.4587\n",
            "Epoch 11/100\n",
            "400/400 [==============================] - 1s 3ms/step - loss: 1.4717 - accuracy: 0.4762 - val_loss: 1.5404 - val_accuracy: 0.4561\n",
            "Epoch 12/100\n",
            "400/400 [==============================] - 1s 3ms/step - loss: 1.4554 - accuracy: 0.4818 - val_loss: 1.5119 - val_accuracy: 0.4726\n",
            "Epoch 13/100\n",
            "400/400 [==============================] - 1s 3ms/step - loss: 1.4417 - accuracy: 0.4843 - val_loss: 1.5574 - val_accuracy: 0.4460\n",
            "Epoch 14/100\n",
            "400/400 [==============================] - 1s 4ms/step - loss: 1.4330 - accuracy: 0.4871 - val_loss: 1.5151 - val_accuracy: 0.4631\n",
            "Epoch 15/100\n",
            "400/400 [==============================] - 1s 3ms/step - loss: 1.4160 - accuracy: 0.4934 - val_loss: 1.5088 - val_accuracy: 0.4635\n",
            "Epoch 16/100\n",
            "400/400 [==============================] - 1s 4ms/step - loss: 1.4123 - accuracy: 0.4957 - val_loss: 1.4797 - val_accuracy: 0.4802\n",
            "Epoch 17/100\n",
            "400/400 [==============================] - 1s 3ms/step - loss: 1.4058 - accuracy: 0.4978 - val_loss: 1.4942 - val_accuracy: 0.4740\n",
            "Epoch 18/100\n",
            "400/400 [==============================] - 1s 4ms/step - loss: 1.3899 - accuracy: 0.5048 - val_loss: 1.4707 - val_accuracy: 0.4832\n",
            "Epoch 19/100\n",
            "400/400 [==============================] - 1s 3ms/step - loss: 1.3824 - accuracy: 0.5053 - val_loss: 1.4856 - val_accuracy: 0.4717\n",
            "Epoch 20/100\n",
            "400/400 [==============================] - 1s 3ms/step - loss: 1.3784 - accuracy: 0.5061 - val_loss: 1.5011 - val_accuracy: 0.4716\n",
            "Epoch 21/100\n",
            "400/400 [==============================] - 1s 4ms/step - loss: 1.3669 - accuracy: 0.5127 - val_loss: 1.4937 - val_accuracy: 0.4628\n",
            "Epoch 22/100\n",
            "400/400 [==============================] - 1s 4ms/step - loss: 1.3610 - accuracy: 0.5122 - val_loss: 1.4777 - val_accuracy: 0.4777\n",
            "Epoch 23/100\n",
            "400/400 [==============================] - 1s 4ms/step - loss: 1.3568 - accuracy: 0.5140 - val_loss: 1.4707 - val_accuracy: 0.4781\n",
            "Epoch 24/100\n",
            "400/400 [==============================] - 1s 3ms/step - loss: 1.3459 - accuracy: 0.5214 - val_loss: 1.5126 - val_accuracy: 0.4698\n",
            "Epoch 25/100\n",
            "400/400 [==============================] - 1s 3ms/step - loss: 1.3410 - accuracy: 0.5183 - val_loss: 1.4843 - val_accuracy: 0.4812\n",
            "Epoch 26/100\n",
            "400/400 [==============================] - 1s 3ms/step - loss: 1.3379 - accuracy: 0.5217 - val_loss: 1.4851 - val_accuracy: 0.4753\n",
            "Epoch 27/100\n",
            "400/400 [==============================] - 1s 3ms/step - loss: 1.3272 - accuracy: 0.5253 - val_loss: 1.4944 - val_accuracy: 0.4818\n",
            "Epoch 28/100\n",
            "400/400 [==============================] - 1s 3ms/step - loss: 1.3204 - accuracy: 0.5283 - val_loss: 1.4741 - val_accuracy: 0.4853\n",
            "Epoch 29/100\n",
            "400/400 [==============================] - 1s 3ms/step - loss: 1.3129 - accuracy: 0.5317 - val_loss: 1.4748 - val_accuracy: 0.4830\n",
            "Epoch 30/100\n",
            "400/400 [==============================] - 1s 3ms/step - loss: 1.3089 - accuracy: 0.5310 - val_loss: 1.4536 - val_accuracy: 0.4914\n",
            "Epoch 31/100\n",
            "400/400 [==============================] - 1s 3ms/step - loss: 1.2990 - accuracy: 0.5342 - val_loss: 1.4724 - val_accuracy: 0.4798\n",
            "Epoch 32/100\n",
            "400/400 [==============================] - 1s 3ms/step - loss: 1.3008 - accuracy: 0.5365 - val_loss: 1.4991 - val_accuracy: 0.4719\n",
            "Epoch 33/100\n",
            "400/400 [==============================] - 1s 3ms/step - loss: 1.2985 - accuracy: 0.5361 - val_loss: 1.4597 - val_accuracy: 0.4862\n",
            "Epoch 34/100\n",
            "400/400 [==============================] - 1s 3ms/step - loss: 1.2879 - accuracy: 0.5407 - val_loss: 1.4591 - val_accuracy: 0.4884\n",
            "Epoch 35/100\n",
            "400/400 [==============================] - 1s 3ms/step - loss: 1.2859 - accuracy: 0.5390 - val_loss: 1.4823 - val_accuracy: 0.4851\n",
            "Epoch 36/100\n",
            "400/400 [==============================] - 1s 3ms/step - loss: 1.2869 - accuracy: 0.5393 - val_loss: 1.4940 - val_accuracy: 0.4811\n",
            "Epoch 37/100\n",
            "400/400 [==============================] - 1s 3ms/step - loss: 1.2735 - accuracy: 0.5433 - val_loss: 1.4762 - val_accuracy: 0.4907\n",
            "Epoch 38/100\n",
            "400/400 [==============================] - 1s 3ms/step - loss: 1.2746 - accuracy: 0.5429 - val_loss: 1.4708 - val_accuracy: 0.4854\n",
            "Epoch 39/100\n",
            "400/400 [==============================] - 1s 3ms/step - loss: 1.2684 - accuracy: 0.5460 - val_loss: 1.5134 - val_accuracy: 0.4773\n",
            "Epoch 40/100\n",
            "400/400 [==============================] - 1s 3ms/step - loss: 1.2709 - accuracy: 0.5455 - val_loss: 1.4612 - val_accuracy: 0.4951\n",
            "Epoch 41/100\n",
            "400/400 [==============================] - 1s 3ms/step - loss: 1.2631 - accuracy: 0.5480 - val_loss: 1.4721 - val_accuracy: 0.4868\n",
            "Epoch 42/100\n",
            "400/400 [==============================] - 1s 3ms/step - loss: 1.2633 - accuracy: 0.5479 - val_loss: 1.4750 - val_accuracy: 0.4868\n",
            "Epoch 43/100\n",
            "400/400 [==============================] - 1s 3ms/step - loss: 1.2459 - accuracy: 0.5557 - val_loss: 1.4857 - val_accuracy: 0.4857\n",
            "Epoch 44/100\n",
            "400/400 [==============================] - 1s 3ms/step - loss: 1.2446 - accuracy: 0.5541 - val_loss: 1.4898 - val_accuracy: 0.4841\n",
            "Epoch 45/100\n",
            "400/400 [==============================] - 1s 3ms/step - loss: 1.2539 - accuracy: 0.5519 - val_loss: 1.4948 - val_accuracy: 0.4887\n",
            "Epoch 46/100\n",
            "400/400 [==============================] - 1s 3ms/step - loss: 1.2421 - accuracy: 0.5554 - val_loss: 1.4549 - val_accuracy: 0.5001\n",
            "Epoch 47/100\n",
            "400/400 [==============================] - 1s 3ms/step - loss: 1.2430 - accuracy: 0.5546 - val_loss: 1.4834 - val_accuracy: 0.4867\n",
            "Epoch 48/100\n",
            "400/400 [==============================] - 1s 3ms/step - loss: 1.2451 - accuracy: 0.5572 - val_loss: 1.4990 - val_accuracy: 0.4868\n",
            "Epoch 49/100\n",
            "400/400 [==============================] - 1s 3ms/step - loss: 1.2349 - accuracy: 0.5590 - val_loss: 1.4652 - val_accuracy: 0.4919\n",
            "Epoch 50/100\n",
            "400/400 [==============================] - 1s 3ms/step - loss: 1.2341 - accuracy: 0.5581 - val_loss: 1.4656 - val_accuracy: 0.4898\n",
            "Epoch 51/100\n",
            "400/400 [==============================] - 1s 3ms/step - loss: 1.2292 - accuracy: 0.5603 - val_loss: 1.4720 - val_accuracy: 0.4924\n",
            "Epoch 52/100\n",
            "400/400 [==============================] - 1s 3ms/step - loss: 1.2262 - accuracy: 0.5620 - val_loss: 1.4874 - val_accuracy: 0.4880\n",
            "Epoch 53/100\n",
            "400/400 [==============================] - 1s 3ms/step - loss: 1.2269 - accuracy: 0.5599 - val_loss: 1.4583 - val_accuracy: 0.4909\n",
            "Epoch 54/100\n",
            "400/400 [==============================] - 1s 3ms/step - loss: 1.2228 - accuracy: 0.5629 - val_loss: 1.4650 - val_accuracy: 0.4944\n",
            "Epoch 55/100\n",
            "400/400 [==============================] - 1s 3ms/step - loss: 1.2180 - accuracy: 0.5626 - val_loss: 1.4868 - val_accuracy: 0.4861\n",
            "Epoch 56/100\n",
            "400/400 [==============================] - 1s 4ms/step - loss: 1.2127 - accuracy: 0.5666 - val_loss: 1.5025 - val_accuracy: 0.4806\n",
            "Epoch 57/100\n",
            "400/400 [==============================] - 1s 3ms/step - loss: 1.2095 - accuracy: 0.5663 - val_loss: 1.4893 - val_accuracy: 0.4916\n",
            "Epoch 58/100\n",
            "400/400 [==============================] - 1s 4ms/step - loss: 1.2090 - accuracy: 0.5659 - val_loss: 1.5150 - val_accuracy: 0.4825\n",
            "Epoch 59/100\n",
            "400/400 [==============================] - 1s 3ms/step - loss: 1.2060 - accuracy: 0.5688 - val_loss: 1.4741 - val_accuracy: 0.4918\n",
            "Epoch 60/100\n",
            "400/400 [==============================] - 1s 4ms/step - loss: 1.2081 - accuracy: 0.5700 - val_loss: 1.4939 - val_accuracy: 0.4900\n",
            "Epoch 61/100\n",
            "400/400 [==============================] - 1s 3ms/step - loss: 1.1984 - accuracy: 0.5687 - val_loss: 1.4921 - val_accuracy: 0.4851\n",
            "Epoch 62/100\n",
            "400/400 [==============================] - 1s 4ms/step - loss: 1.1890 - accuracy: 0.5755 - val_loss: 1.5144 - val_accuracy: 0.4810\n",
            "Epoch 63/100\n",
            "400/400 [==============================] - 1s 3ms/step - loss: 1.1951 - accuracy: 0.5727 - val_loss: 1.4898 - val_accuracy: 0.4929\n",
            "Epoch 64/100\n",
            "400/400 [==============================] - 1s 4ms/step - loss: 1.1935 - accuracy: 0.5731 - val_loss: 1.4921 - val_accuracy: 0.4890\n",
            "Epoch 65/100\n",
            "400/400 [==============================] - 1s 3ms/step - loss: 1.1866 - accuracy: 0.5760 - val_loss: 1.4998 - val_accuracy: 0.4844\n",
            "Epoch 66/100\n",
            "400/400 [==============================] - 1s 3ms/step - loss: 1.1858 - accuracy: 0.5752 - val_loss: 1.4844 - val_accuracy: 0.4906\n",
            "Epoch 67/100\n",
            "400/400 [==============================] - 1s 4ms/step - loss: 1.1877 - accuracy: 0.5739 - val_loss: 1.5663 - val_accuracy: 0.4697\n",
            "Epoch 68/100\n",
            "400/400 [==============================] - 1s 3ms/step - loss: 1.1876 - accuracy: 0.5761 - val_loss: 1.4936 - val_accuracy: 0.4881\n",
            "Epoch 69/100\n",
            "400/400 [==============================] - 1s 3ms/step - loss: 1.1828 - accuracy: 0.5763 - val_loss: 1.5214 - val_accuracy: 0.4785\n",
            "Epoch 70/100\n",
            "400/400 [==============================] - 1s 4ms/step - loss: 1.1788 - accuracy: 0.5784 - val_loss: 1.5144 - val_accuracy: 0.4857\n",
            "Epoch 71/100\n",
            "400/400 [==============================] - 1s 3ms/step - loss: 1.1791 - accuracy: 0.5793 - val_loss: 1.5465 - val_accuracy: 0.4799\n",
            "Epoch 72/100\n",
            "400/400 [==============================] - 1s 3ms/step - loss: 1.1769 - accuracy: 0.5761 - val_loss: 1.4943 - val_accuracy: 0.4900\n",
            "Epoch 73/100\n",
            "400/400 [==============================] - 1s 3ms/step - loss: 1.1740 - accuracy: 0.5806 - val_loss: 1.5084 - val_accuracy: 0.4853\n",
            "Epoch 74/100\n",
            "400/400 [==============================] - 1s 4ms/step - loss: 1.1677 - accuracy: 0.5818 - val_loss: 1.5292 - val_accuracy: 0.4778\n",
            "Epoch 75/100\n",
            "400/400 [==============================] - 1s 3ms/step - loss: 1.1652 - accuracy: 0.5838 - val_loss: 1.5073 - val_accuracy: 0.4931\n",
            "Epoch 76/100\n",
            "400/400 [==============================] - 1s 3ms/step - loss: 1.1691 - accuracy: 0.5808 - val_loss: 1.5315 - val_accuracy: 0.4821\n",
            "Epoch 77/100\n",
            "400/400 [==============================] - 1s 3ms/step - loss: 1.1662 - accuracy: 0.5791 - val_loss: 1.5048 - val_accuracy: 0.4907\n",
            "Epoch 78/100\n",
            "400/400 [==============================] - 1s 3ms/step - loss: 1.1640 - accuracy: 0.5804 - val_loss: 1.5092 - val_accuracy: 0.4848\n",
            "Epoch 79/100\n",
            "400/400 [==============================] - 1s 3ms/step - loss: 1.1644 - accuracy: 0.5823 - val_loss: 1.5564 - val_accuracy: 0.4810\n",
            "Epoch 80/100\n",
            "400/400 [==============================] - 1s 3ms/step - loss: 1.1562 - accuracy: 0.5835 - val_loss: 1.5189 - val_accuracy: 0.4841\n",
            "Epoch 81/100\n",
            "400/400 [==============================] - 1s 3ms/step - loss: 1.1552 - accuracy: 0.5856 - val_loss: 1.4925 - val_accuracy: 0.4952\n",
            "Epoch 82/100\n",
            "400/400 [==============================] - 1s 3ms/step - loss: 1.1512 - accuracy: 0.5889 - val_loss: 1.5233 - val_accuracy: 0.4835\n",
            "Epoch 83/100\n",
            "400/400 [==============================] - 1s 3ms/step - loss: 1.1548 - accuracy: 0.5838 - val_loss: 1.5291 - val_accuracy: 0.4904\n",
            "Epoch 84/100\n",
            "400/400 [==============================] - 1s 3ms/step - loss: 1.1485 - accuracy: 0.5877 - val_loss: 1.5151 - val_accuracy: 0.4946\n",
            "Epoch 85/100\n",
            "400/400 [==============================] - 1s 3ms/step - loss: 1.1561 - accuracy: 0.5827 - val_loss: 1.5351 - val_accuracy: 0.4797\n",
            "Epoch 86/100\n",
            "400/400 [==============================] - 1s 3ms/step - loss: 1.1511 - accuracy: 0.5868 - val_loss: 1.5336 - val_accuracy: 0.4937\n",
            "Epoch 87/100\n",
            "400/400 [==============================] - 1s 3ms/step - loss: 1.1388 - accuracy: 0.5910 - val_loss: 1.5225 - val_accuracy: 0.4842\n",
            "Epoch 88/100\n",
            "400/400 [==============================] - 1s 3ms/step - loss: 1.1469 - accuracy: 0.5864 - val_loss: 1.5737 - val_accuracy: 0.4746\n",
            "Epoch 89/100\n",
            "400/400 [==============================] - 1s 3ms/step - loss: 1.1487 - accuracy: 0.5879 - val_loss: 1.5252 - val_accuracy: 0.4810\n",
            "Epoch 90/100\n",
            "400/400 [==============================] - 1s 3ms/step - loss: 1.1415 - accuracy: 0.5907 - val_loss: 1.5100 - val_accuracy: 0.4945\n",
            "Epoch 91/100\n",
            "400/400 [==============================] - 1s 3ms/step - loss: 1.1419 - accuracy: 0.5902 - val_loss: 1.5054 - val_accuracy: 0.4928\n",
            "Epoch 92/100\n",
            "400/400 [==============================] - 1s 3ms/step - loss: 1.1330 - accuracy: 0.5911 - val_loss: 1.5240 - val_accuracy: 0.4875\n",
            "Epoch 93/100\n",
            "400/400 [==============================] - 1s 3ms/step - loss: 1.1373 - accuracy: 0.5920 - val_loss: 1.5194 - val_accuracy: 0.4856\n",
            "Epoch 94/100\n",
            "400/400 [==============================] - 1s 3ms/step - loss: 1.1333 - accuracy: 0.5917 - val_loss: 1.5320 - val_accuracy: 0.4861\n",
            "Epoch 95/100\n",
            "400/400 [==============================] - 1s 3ms/step - loss: 1.1304 - accuracy: 0.5947 - val_loss: 1.5505 - val_accuracy: 0.4831\n",
            "Epoch 96/100\n",
            "400/400 [==============================] - 1s 3ms/step - loss: 1.1310 - accuracy: 0.5938 - val_loss: 1.5526 - val_accuracy: 0.4822\n",
            "Epoch 97/100\n",
            "400/400 [==============================] - 1s 3ms/step - loss: 1.1240 - accuracy: 0.5955 - val_loss: 1.5284 - val_accuracy: 0.4942\n",
            "Epoch 98/100\n",
            "400/400 [==============================] - 1s 3ms/step - loss: 1.1220 - accuracy: 0.5962 - val_loss: 1.5475 - val_accuracy: 0.4816\n",
            "Epoch 99/100\n",
            "400/400 [==============================] - 1s 3ms/step - loss: 1.1268 - accuracy: 0.5944 - val_loss: 1.5295 - val_accuracy: 0.4899\n",
            "Epoch 100/100\n",
            "400/400 [==============================] - 1s 3ms/step - loss: 1.1195 - accuracy: 0.5975 - val_loss: 1.5517 - val_accuracy: 0.4849\n",
            "100/100 [==============================] - 0s 2ms/step - loss: 1.5297 - accuracy: 0.4812\n",
            "Test Loss and Accuracy -> [1.5296688079833984, 0.4812000095844269]\n"
          ],
          "name": "stdout"
        }
      ]
    },
    {
      "cell_type": "code",
      "metadata": {
        "colab": {
          "base_uri": "https://localhost:8080/",
          "height": 573
        },
        "id": "vnZ8N63Teo9A",
        "outputId": "4d05d6dc-2281-474b-dc82-b751252cad4b"
      },
      "source": [
        "plot_acc(history)\n",
        "plt.show()\n",
        "plot_loss(history)\n",
        "plt.show()"
      ],
      "execution_count": null,
      "outputs": [
        {
          "output_type": "display_data",
          "data": {
            "image/png": "[encoded data removed]",
            "text/plain": [
              "<Figure size 432x288 with 1 Axes>"
            ]
          },
          "metadata": {
            "tags": [],
            "needs_background": "light"
          }
        },
        {
          "output_type": "display_data",
          "data": {
            "image/png": "[encoded data removed]",
            "text/plain": [
              "<Figure size 432x288 with 1 Axes>"
            ]
          },
          "metadata": {
            "tags": [],
            "needs_background": "light"
          }
        }
      ]
    },
    {
      "cell_type": "code",
      "metadata": {
        "colab": {
          "base_uri": "https://localhost:8080/"
        },
        "id": "inzsz4cFgBzC",
        "outputId": "ef9aa3ce-3487-44c9-e882-17c7c5eb533e"
      },
      "source": [
        "Nh_l = [100, 50]\n",
        "Pd_l = [0.05, 0.5]\n",
        "number_of_class = 10\n",
        "Nout = number_of_class\n",
        "\n",
        "(X_train, Y_train), (X_test, Y_test) = Data_func()\n",
        "model = DNN(X_train.shape[1], Nh_l, Pd_l, Nout)\n",
        "history = model.fit(X_train, Y_train, epochs=100, batch_size=100, validation_split=0.2)\n",
        "\n",
        "performance_test = model.evaluate(X_test, Y_test, batch_size=100)\n",
        "print('Test Loss and Accuracy ->', performance_test)"
      ],
      "execution_count": null,
      "outputs": [
        {
          "output_type": "stream",
          "text": [
            "Epoch 1/100\n",
            "400/400 [==============================] - 2s 3ms/step - loss: 2.1117 - accuracy: 0.2066 - val_loss: 1.9246 - val_accuracy: 0.3045\n",
            "Epoch 2/100\n",
            "400/400 [==============================] - 1s 3ms/step - loss: 1.9624 - accuracy: 0.2725 - val_loss: 1.8574 - val_accuracy: 0.3286\n",
            "Epoch 3/100\n",
            "400/400 [==============================] - 1s 3ms/step - loss: 1.9082 - accuracy: 0.3020 - val_loss: 1.8424 - val_accuracy: 0.3241\n",
            "Epoch 4/100\n",
            "400/400 [==============================] - 1s 3ms/step - loss: 1.8761 - accuracy: 0.3164 - val_loss: 1.8042 - val_accuracy: 0.3445\n",
            "Epoch 5/100\n",
            "400/400 [==============================] - 1s 3ms/step - loss: 1.8536 - accuracy: 0.3243 - val_loss: 1.7934 - val_accuracy: 0.3513\n",
            "Epoch 6/100\n",
            "400/400 [==============================] - 1s 4ms/step - loss: 1.8451 - accuracy: 0.3288 - val_loss: 1.7844 - val_accuracy: 0.3549\n",
            "Epoch 7/100\n",
            "400/400 [==============================] - 1s 3ms/step - loss: 1.8390 - accuracy: 0.3324 - val_loss: 1.7696 - val_accuracy: 0.3637\n",
            "Epoch 8/100\n",
            "400/400 [==============================] - 1s 3ms/step - loss: 1.8320 - accuracy: 0.3355 - val_loss: 1.7623 - val_accuracy: 0.3725\n",
            "Epoch 9/100\n",
            "400/400 [==============================] - 1s 3ms/step - loss: 1.8236 - accuracy: 0.3376 - val_loss: 1.7824 - val_accuracy: 0.3567\n",
            "Epoch 10/100\n",
            "400/400 [==============================] - 1s 3ms/step - loss: 1.8130 - accuracy: 0.3433 - val_loss: 1.7533 - val_accuracy: 0.3500\n",
            "Epoch 11/100\n",
            "400/400 [==============================] - 1s 3ms/step - loss: 1.8015 - accuracy: 0.3499 - val_loss: 1.7423 - val_accuracy: 0.3721\n",
            "Epoch 12/100\n",
            "400/400 [==============================] - 1s 3ms/step - loss: 1.7948 - accuracy: 0.3524 - val_loss: 1.7315 - val_accuracy: 0.3843\n",
            "Epoch 13/100\n",
            "400/400 [==============================] - 1s 3ms/step - loss: 1.7866 - accuracy: 0.3528 - val_loss: 1.7142 - val_accuracy: 0.3767\n",
            "Epoch 14/100\n",
            "400/400 [==============================] - 1s 3ms/step - loss: 1.7805 - accuracy: 0.3558 - val_loss: 1.7047 - val_accuracy: 0.3918\n",
            "Epoch 15/100\n",
            "400/400 [==============================] - 1s 3ms/step - loss: 1.7735 - accuracy: 0.3604 - val_loss: 1.7026 - val_accuracy: 0.3843\n",
            "Epoch 16/100\n",
            "400/400 [==============================] - 1s 3ms/step - loss: 1.7721 - accuracy: 0.3565 - val_loss: 1.6980 - val_accuracy: 0.3875\n",
            "Epoch 17/100\n",
            "400/400 [==============================] - 1s 3ms/step - loss: 1.7628 - accuracy: 0.3622 - val_loss: 1.7052 - val_accuracy: 0.3875\n",
            "Epoch 18/100\n",
            "400/400 [==============================] - 1s 3ms/step - loss: 1.7666 - accuracy: 0.3626 - val_loss: 1.6897 - val_accuracy: 0.3939\n",
            "Epoch 19/100\n",
            "400/400 [==============================] - 1s 3ms/step - loss: 1.7516 - accuracy: 0.3683 - val_loss: 1.6916 - val_accuracy: 0.3856\n",
            "Epoch 20/100\n",
            "400/400 [==============================] - 1s 3ms/step - loss: 1.7467 - accuracy: 0.3661 - val_loss: 1.6836 - val_accuracy: 0.3985\n",
            "Epoch 21/100\n",
            "400/400 [==============================] - 1s 3ms/step - loss: 1.7525 - accuracy: 0.3663 - val_loss: 1.6778 - val_accuracy: 0.4022\n",
            "Epoch 22/100\n",
            "400/400 [==============================] - 1s 3ms/step - loss: 1.7458 - accuracy: 0.3690 - val_loss: 1.6838 - val_accuracy: 0.3847\n",
            "Epoch 23/100\n",
            "400/400 [==============================] - 1s 3ms/step - loss: 1.7437 - accuracy: 0.3712 - val_loss: 1.7018 - val_accuracy: 0.3794\n",
            "Epoch 24/100\n",
            "400/400 [==============================] - 1s 3ms/step - loss: 1.7413 - accuracy: 0.3764 - val_loss: 1.6825 - val_accuracy: 0.4004\n",
            "Epoch 25/100\n",
            "400/400 [==============================] - 1s 3ms/step - loss: 1.7414 - accuracy: 0.3703 - val_loss: 1.6818 - val_accuracy: 0.3993\n",
            "Epoch 26/100\n",
            "400/400 [==============================] - 1s 3ms/step - loss: 1.7349 - accuracy: 0.3736 - val_loss: 1.6749 - val_accuracy: 0.4002\n",
            "Epoch 27/100\n",
            "400/400 [==============================] - 1s 3ms/step - loss: 1.7378 - accuracy: 0.3726 - val_loss: 1.6632 - val_accuracy: 0.4107\n",
            "Epoch 28/100\n",
            "400/400 [==============================] - 1s 3ms/step - loss: 1.7301 - accuracy: 0.3738 - val_loss: 1.6718 - val_accuracy: 0.3993\n",
            "Epoch 29/100\n",
            "400/400 [==============================] - 1s 3ms/step - loss: 1.7305 - accuracy: 0.3754 - val_loss: 1.6838 - val_accuracy: 0.3994\n",
            "Epoch 30/100\n",
            "400/400 [==============================] - 1s 3ms/step - loss: 1.7314 - accuracy: 0.3749 - val_loss: 1.6693 - val_accuracy: 0.4022\n",
            "Epoch 31/100\n",
            "400/400 [==============================] - 1s 3ms/step - loss: 1.7240 - accuracy: 0.3788 - val_loss: 1.6746 - val_accuracy: 0.4014\n",
            "Epoch 32/100\n",
            "400/400 [==============================] - 1s 3ms/step - loss: 1.7261 - accuracy: 0.3767 - val_loss: 1.6649 - val_accuracy: 0.3975\n",
            "Epoch 33/100\n",
            "400/400 [==============================] - 1s 3ms/step - loss: 1.7264 - accuracy: 0.3755 - val_loss: 1.6849 - val_accuracy: 0.3888\n",
            "Epoch 34/100\n",
            "400/400 [==============================] - 1s 3ms/step - loss: 1.7268 - accuracy: 0.3735 - val_loss: 1.6920 - val_accuracy: 0.3863\n",
            "Epoch 35/100\n",
            "400/400 [==============================] - 1s 3ms/step - loss: 1.7180 - accuracy: 0.3789 - val_loss: 1.6804 - val_accuracy: 0.3966\n",
            "Epoch 36/100\n",
            "400/400 [==============================] - 1s 3ms/step - loss: 1.7175 - accuracy: 0.3812 - val_loss: 1.6690 - val_accuracy: 0.4023\n",
            "Epoch 37/100\n",
            "400/400 [==============================] - 1s 3ms/step - loss: 1.7216 - accuracy: 0.3767 - val_loss: 1.6622 - val_accuracy: 0.3990\n",
            "Epoch 38/100\n",
            "400/400 [==============================] - 1s 4ms/step - loss: 1.7220 - accuracy: 0.3789 - val_loss: 1.6682 - val_accuracy: 0.3972\n",
            "Epoch 39/100\n",
            "400/400 [==============================] - 1s 4ms/step - loss: 1.7195 - accuracy: 0.3791 - val_loss: 1.6719 - val_accuracy: 0.3985\n",
            "Epoch 40/100\n",
            "400/400 [==============================] - 1s 4ms/step - loss: 1.7161 - accuracy: 0.3817 - val_loss: 1.6720 - val_accuracy: 0.3985\n",
            "Epoch 41/100\n",
            "400/400 [==============================] - 1s 3ms/step - loss: 1.7144 - accuracy: 0.3792 - val_loss: 1.6613 - val_accuracy: 0.4027\n",
            "Epoch 42/100\n",
            "400/400 [==============================] - 1s 4ms/step - loss: 1.7143 - accuracy: 0.3823 - val_loss: 1.6678 - val_accuracy: 0.4024\n",
            "Epoch 43/100\n",
            "400/400 [==============================] - 1s 3ms/step - loss: 1.7093 - accuracy: 0.3865 - val_loss: 1.6518 - val_accuracy: 0.4081\n",
            "Epoch 44/100\n",
            "400/400 [==============================] - 1s 3ms/step - loss: 1.7094 - accuracy: 0.3799 - val_loss: 1.6556 - val_accuracy: 0.4069\n",
            "Epoch 45/100\n",
            "400/400 [==============================] - 1s 3ms/step - loss: 1.7101 - accuracy: 0.3837 - val_loss: 1.6722 - val_accuracy: 0.4000\n",
            "Epoch 46/100\n",
            "400/400 [==============================] - 1s 3ms/step - loss: 1.7039 - accuracy: 0.3890 - val_loss: 1.6741 - val_accuracy: 0.3987\n",
            "Epoch 47/100\n",
            "400/400 [==============================] - 1s 3ms/step - loss: 1.7010 - accuracy: 0.3859 - val_loss: 1.6562 - val_accuracy: 0.4040\n",
            "Epoch 48/100\n",
            "400/400 [==============================] - 1s 3ms/step - loss: 1.7096 - accuracy: 0.3837 - val_loss: 1.6648 - val_accuracy: 0.3976\n",
            "Epoch 49/100\n",
            "400/400 [==============================] - 1s 4ms/step - loss: 1.7022 - accuracy: 0.3859 - val_loss: 1.6717 - val_accuracy: 0.3965\n",
            "Epoch 50/100\n",
            "400/400 [==============================] - 1s 4ms/step - loss: 1.7077 - accuracy: 0.3826 - val_loss: 1.6720 - val_accuracy: 0.3954\n",
            "Epoch 51/100\n",
            "400/400 [==============================] - 1s 3ms/step - loss: 1.7097 - accuracy: 0.3829 - val_loss: 1.6557 - val_accuracy: 0.4087\n",
            "Epoch 52/100\n",
            "400/400 [==============================] - 1s 4ms/step - loss: 1.7040 - accuracy: 0.3870 - val_loss: 1.6500 - val_accuracy: 0.4056\n",
            "Epoch 53/100\n",
            "400/400 [==============================] - 1s 3ms/step - loss: 1.7031 - accuracy: 0.3857 - val_loss: 1.6631 - val_accuracy: 0.3945\n",
            "Epoch 54/100\n",
            "400/400 [==============================] - 1s 4ms/step - loss: 1.6978 - accuracy: 0.3873 - val_loss: 1.6671 - val_accuracy: 0.4051\n",
            "Epoch 55/100\n",
            "400/400 [==============================] - 1s 3ms/step - loss: 1.7037 - accuracy: 0.3834 - val_loss: 1.6587 - val_accuracy: 0.4010\n",
            "Epoch 56/100\n",
            "400/400 [==============================] - 1s 3ms/step - loss: 1.6987 - accuracy: 0.3889 - val_loss: 1.6500 - val_accuracy: 0.4062\n",
            "Epoch 57/100\n",
            "400/400 [==============================] - 1s 3ms/step - loss: 1.6978 - accuracy: 0.3872 - val_loss: 1.6550 - val_accuracy: 0.4049\n",
            "Epoch 58/100\n",
            "400/400 [==============================] - 1s 3ms/step - loss: 1.6970 - accuracy: 0.3880 - val_loss: 1.6685 - val_accuracy: 0.4002\n",
            "Epoch 59/100\n",
            "400/400 [==============================] - 1s 3ms/step - loss: 1.6905 - accuracy: 0.3874 - val_loss: 1.6526 - val_accuracy: 0.4068\n",
            "Epoch 60/100\n",
            "400/400 [==============================] - 1s 4ms/step - loss: 1.6941 - accuracy: 0.3874 - val_loss: 1.6568 - val_accuracy: 0.4010\n",
            "Epoch 61/100\n",
            "400/400 [==============================] - 1s 3ms/step - loss: 1.6940 - accuracy: 0.3889 - val_loss: 1.6583 - val_accuracy: 0.3984\n",
            "Epoch 62/100\n",
            "400/400 [==============================] - 1s 4ms/step - loss: 1.6980 - accuracy: 0.3893 - val_loss: 1.6407 - val_accuracy: 0.4082\n",
            "Epoch 63/100\n",
            "400/400 [==============================] - 1s 3ms/step - loss: 1.6972 - accuracy: 0.3899 - val_loss: 1.6480 - val_accuracy: 0.4116\n",
            "Epoch 64/100\n",
            "400/400 [==============================] - 1s 4ms/step - loss: 1.6926 - accuracy: 0.3864 - val_loss: 1.6525 - val_accuracy: 0.4032\n",
            "Epoch 65/100\n",
            "400/400 [==============================] - 1s 3ms/step - loss: 1.6940 - accuracy: 0.3878 - val_loss: 1.6452 - val_accuracy: 0.4046\n",
            "Epoch 66/100\n",
            "400/400 [==============================] - 1s 3ms/step - loss: 1.6924 - accuracy: 0.3878 - val_loss: 1.6562 - val_accuracy: 0.4026\n",
            "Epoch 67/100\n",
            "400/400 [==============================] - 1s 3ms/step - loss: 1.6875 - accuracy: 0.3912 - val_loss: 1.6461 - val_accuracy: 0.4041\n",
            "Epoch 68/100\n",
            "400/400 [==============================] - 1s 3ms/step - loss: 1.6949 - accuracy: 0.3896 - val_loss: 1.6693 - val_accuracy: 0.3958\n",
            "Epoch 69/100\n",
            "400/400 [==============================] - 1s 4ms/step - loss: 1.6902 - accuracy: 0.3909 - val_loss: 1.6571 - val_accuracy: 0.4024\n",
            "Epoch 70/100\n",
            "400/400 [==============================] - 1s 3ms/step - loss: 1.6902 - accuracy: 0.3915 - val_loss: 1.6711 - val_accuracy: 0.3976\n",
            "Epoch 71/100\n",
            "400/400 [==============================] - 1s 3ms/step - loss: 1.6920 - accuracy: 0.3915 - val_loss: 1.6424 - val_accuracy: 0.4077\n",
            "Epoch 72/100\n",
            "400/400 [==============================] - 2s 4ms/step - loss: 1.6875 - accuracy: 0.3903 - val_loss: 1.6515 - val_accuracy: 0.4032\n",
            "Epoch 73/100\n",
            "400/400 [==============================] - 1s 3ms/step - loss: 1.6880 - accuracy: 0.3947 - val_loss: 1.6693 - val_accuracy: 0.3972\n",
            "Epoch 74/100\n",
            "400/400 [==============================] - 1s 3ms/step - loss: 1.6842 - accuracy: 0.3927 - val_loss: 1.6636 - val_accuracy: 0.3978\n",
            "Epoch 75/100\n",
            "400/400 [==============================] - 1s 3ms/step - loss: 1.6873 - accuracy: 0.3944 - val_loss: 1.6708 - val_accuracy: 0.4049\n",
            "Epoch 76/100\n",
            "400/400 [==============================] - 1s 3ms/step - loss: 1.6853 - accuracy: 0.3921 - val_loss: 1.6629 - val_accuracy: 0.4009\n",
            "Epoch 77/100\n",
            "400/400 [==============================] - 1s 3ms/step - loss: 1.6811 - accuracy: 0.3911 - val_loss: 1.6662 - val_accuracy: 0.4019\n",
            "Epoch 78/100\n",
            "400/400 [==============================] - 1s 3ms/step - loss: 1.6851 - accuracy: 0.3935 - val_loss: 1.6618 - val_accuracy: 0.4001\n",
            "Epoch 79/100\n",
            "400/400 [==============================] - 1s 4ms/step - loss: 1.6839 - accuracy: 0.3929 - val_loss: 1.6414 - val_accuracy: 0.4077\n",
            "Epoch 80/100\n",
            "400/400 [==============================] - 1s 3ms/step - loss: 1.6845 - accuracy: 0.3964 - val_loss: 1.6470 - val_accuracy: 0.4074\n",
            "Epoch 81/100\n",
            "400/400 [==============================] - 1s 3ms/step - loss: 1.6800 - accuracy: 0.3959 - val_loss: 1.6450 - val_accuracy: 0.4044\n",
            "Epoch 82/100\n",
            "400/400 [==============================] - 1s 3ms/step - loss: 1.6879 - accuracy: 0.3929 - val_loss: 1.6498 - val_accuracy: 0.3999\n",
            "Epoch 83/100\n",
            "400/400 [==============================] - 1s 3ms/step - loss: 1.6807 - accuracy: 0.3926 - val_loss: 1.6559 - val_accuracy: 0.4003\n",
            "Epoch 84/100\n",
            "400/400 [==============================] - 1s 3ms/step - loss: 1.6865 - accuracy: 0.3929 - val_loss: 1.6621 - val_accuracy: 0.4016\n",
            "Epoch 85/100\n",
            "400/400 [==============================] - 1s 3ms/step - loss: 1.6797 - accuracy: 0.3969 - val_loss: 1.6480 - val_accuracy: 0.4050\n",
            "Epoch 86/100\n",
            "400/400 [==============================] - 1s 3ms/step - loss: 1.6793 - accuracy: 0.3941 - val_loss: 1.6818 - val_accuracy: 0.3953\n",
            "Epoch 87/100\n",
            "400/400 [==============================] - 1s 3ms/step - loss: 1.6803 - accuracy: 0.3932 - val_loss: 1.6529 - val_accuracy: 0.4086\n",
            "Epoch 88/100\n",
            "400/400 [==============================] - 1s 3ms/step - loss: 1.6799 - accuracy: 0.3929 - val_loss: 1.6458 - val_accuracy: 0.4076\n",
            "Epoch 89/100\n",
            "400/400 [==============================] - 1s 3ms/step - loss: 1.6779 - accuracy: 0.3952 - val_loss: 1.6593 - val_accuracy: 0.4011\n",
            "Epoch 90/100\n",
            "400/400 [==============================] - 1s 3ms/step - loss: 1.6808 - accuracy: 0.3941 - val_loss: 1.6427 - val_accuracy: 0.4122\n",
            "Epoch 91/100\n",
            "400/400 [==============================] - 1s 3ms/step - loss: 1.6824 - accuracy: 0.3949 - val_loss: 1.6515 - val_accuracy: 0.4062\n",
            "Epoch 92/100\n",
            "400/400 [==============================] - 1s 3ms/step - loss: 1.6707 - accuracy: 0.3956 - val_loss: 1.6454 - val_accuracy: 0.4089\n",
            "Epoch 93/100\n",
            "400/400 [==============================] - 1s 3ms/step - loss: 1.6730 - accuracy: 0.3966 - val_loss: 1.6626 - val_accuracy: 0.4057\n",
            "Epoch 94/100\n",
            "400/400 [==============================] - 1s 3ms/step - loss: 1.6745 - accuracy: 0.3949 - val_loss: 1.6461 - val_accuracy: 0.4098\n",
            "Epoch 95/100\n",
            "400/400 [==============================] - 1s 3ms/step - loss: 1.6779 - accuracy: 0.3940 - val_loss: 1.6473 - val_accuracy: 0.4079\n",
            "Epoch 96/100\n",
            "400/400 [==============================] - 1s 3ms/step - loss: 1.6636 - accuracy: 0.3982 - val_loss: 1.6422 - val_accuracy: 0.4100\n",
            "Epoch 97/100\n",
            "400/400 [==============================] - 1s 4ms/step - loss: 1.6794 - accuracy: 0.3947 - val_loss: 1.6359 - val_accuracy: 0.4097\n",
            "Epoch 98/100\n",
            "400/400 [==============================] - 1s 4ms/step - loss: 1.6694 - accuracy: 0.3941 - val_loss: 1.6413 - val_accuracy: 0.4078\n",
            "Epoch 99/100\n",
            "400/400 [==============================] - 1s 3ms/step - loss: 1.6711 - accuracy: 0.3963 - val_loss: 1.6567 - val_accuracy: 0.4076\n",
            "Epoch 100/100\n",
            "400/400 [==============================] - 1s 3ms/step - loss: 1.6768 - accuracy: 0.3954 - val_loss: 1.6582 - val_accuracy: 0.4088\n",
            "100/100 [==============================] - 0s 2ms/step - loss: 1.6374 - accuracy: 0.4076\n",
            "Test Loss and Accuracy -> [1.6374351978302002, 0.4075999855995178]\n"
          ],
          "name": "stdout"
        }
      ]
    },
    {
      "cell_type": "code",
      "metadata": {
        "colab": {
          "base_uri": "https://localhost:8080/",
          "height": 573
        },
        "id": "VMROqUbdgCBH",
        "outputId": "2c8cdf54-7b81-4c76-b180-08add76da2e2"
      },
      "source": [
        "plot_acc(history)\n",
        "plt.show()\n",
        "plot_loss(history)\n",
        "plt.show()"
      ],
      "execution_count": null,
      "outputs": [
        {
          "output_type": "display_data",
          "data": {
            "image/png": "[encoded data removed]",
            "text/plain": [
              "<Figure size 432x288 with 1 Axes>"
            ]
          },
          "metadata": {
            "tags": [],
            "needs_background": "light"
          }
        },
        {
          "output_type": "display_data",
          "data": {
            "image/png": "[encoded data removed]",
            "text/plain": [
              "<Figure size 432x288 with 1 Axes>"
            ]
          },
          "metadata": {
            "tags": [],
            "needs_background": "light"
          }
        }
      ]
    }
  ]
}