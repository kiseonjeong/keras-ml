{
  "nbformat": 4,
  "nbformat_minor": 0,
  "metadata": {
    "colab": {
      "name": "keras.ipynb",
      "provenance": [],
      "authorship_tag": "ABX9TyNzqfuzo3HiGl8ermhlHZpU",
      "include_colab_link": true
    },
    "kernelspec": {
      "name": "python3",
      "display_name": "Python 3"
    },
    "language_info": {
      "name": "python"
    },
    "accelerator": "GPU"
  },
  "cells": [
    {
      "cell_type": "markdown",
      "metadata": {
        "id": "view-in-github",
        "colab_type": "text"
      },
      "source": [
        "<a href=\"https://colab.research.google.com/github/kiseonjeong/keras-ml/blob/cnn-mnist/keras.ipynb\" target=\"_parent\"><img src=\"https://colab.research.google.com/assets/colab-badge.svg\" alt=\"Open In Colab\"/></a>"
      ]
    },
    {
      "cell_type": "code",
      "metadata": {
        "id": "Al9AEP2v8xgO"
      },
      "source": [
        "# 케라스 패키지 임포트\n",
        "import tensorflow.keras\n",
        "import numpy"
      ],
      "execution_count": null,
      "outputs": []
    },
    {
      "cell_type": "code",
      "metadata": {
        "colab": {
          "base_uri": "https://localhost:8080/"
        },
        "id": "zBNOBECd9Iuy",
        "outputId": "e2c55a6c-cbed-4e26-9f05-dd2fa8e098b5"
      },
      "source": [
        "# 데이터 지정\n",
        "x = numpy.array([0, 1, 2, 3, 4])\n",
        "y = x * 2 + 1\n",
        "\n",
        "# 인공신경망 모델링\n",
        "model = tensorflow.keras.models.Sequential()\n",
        "model.add(tensorflow.keras.layers.Dense(1, input_shape=(1,)))\n",
        "model.compile('SGD', 'mse')\n",
        "\n",
        "# 주어진 데이터로 모델 학습\n",
        "model.fit(x[:2], y[:2], epochs=1000, verbose=0)"
      ],
      "execution_count": null,
      "outputs": [
        {
          "output_type": "execute_result",
          "data": {
            "text/plain": [
              "<tensorflow.python.keras.callbacks.History at 0x7fcc0a7f0950>"
            ]
          },
          "metadata": {
            "tags": []
          },
          "execution_count": 8
        }
      ]
    },
    {
      "cell_type": "code",
      "metadata": {
        "colab": {
          "base_uri": "https://localhost:8080/"
        },
        "id": "W0v9dBuu-Qzs",
        "outputId": "a061b985-8dd1-47f8-8a10-d421f5404742"
      },
      "source": [
        "# 성능 평가\n",
        "print('Targets:', y[2:])\n",
        "print('Predictions:', model.predict(x[2:]).flatten())"
      ],
      "execution_count": null,
      "outputs": [
        {
          "output_type": "stream",
          "text": [
            "Targets: [5 7 9]\n",
            "Predictions: [4.9513407 6.9161305 8.88092  ]\n"
          ],
          "name": "stdout"
        }
      ]
    }
  ]
}