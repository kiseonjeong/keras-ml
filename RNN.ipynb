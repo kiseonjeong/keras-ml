{
  "nbformat": 4,
  "nbformat_minor": 0,
  "metadata": {
    "colab": {
      "name": "RNN.ipynb",
      "provenance": [],
      "mount_file_id": "15EaJiJzK4YGWCSaMe_Mshn5vH0lYy3ZF",
      "authorship_tag": "ABX9TyMVw55/rZ0M6uhsNCNNtGAK",
      "include_colab_link": true
    },
    "kernelspec": {
      "name": "python3",
      "display_name": "Python 3"
    },
    "language_info": {
      "name": "python"
    },
    "accelerator": "GPU"
  },
  "cells": [
    {
      "cell_type": "markdown",
      "metadata": {
        "id": "view-in-github",
        "colab_type": "text"
      },
      "source": [
        "<a href=\"https://colab.research.google.com/github/kiseonjeong/keras-ml/blob/RNN/RNN.ipynb\" target=\"_parent\"><img src=\"https://colab.research.google.com/assets/colab-badge.svg\" alt=\"Open In Colab\"/></a>"
      ]
    },
    {
      "cell_type": "code",
      "metadata": {
        "id": "xCAfc1Nrvyz7"
      },
      "source": [
        "from __future__ import print_function\n",
        "from tensorflow.keras.preprocessing import sequence\n",
        "from tensorflow.keras.datasets import imdb\n",
        "from tensorflow.keras import layers, models"
      ],
      "execution_count": null,
      "outputs": []
    },
    {
      "cell_type": "code",
      "metadata": {
        "id": "qwAYVEfIxyYp"
      },
      "source": [
        "# 데이터 준비\n",
        "class Data:\n",
        "    def __init__(self, max_features=20000, maxlen=80):\n",
        "        (x_train, y_train), (x_test, y_test) = imdb.load_data(num_words=max_features)\n",
        "        x_train = sequence.pad_sequences(x_train, maxlen=maxlen)\n",
        "        x_test = sequence.pad_sequences(x_test, maxlen=maxlen)\n",
        "        \n",
        "        self.x_train, self.y_train = x_train, y_train\n",
        "        self.x_test, self.y_test = x_test, y_test"
      ],
      "execution_count": null,
      "outputs": []
    },
    {
      "cell_type": "code",
      "metadata": {
        "id": "npIzq--vy7w4"
      },
      "source": [
        "# 모델링\n",
        "class RNN_LSTM(models.Model):\n",
        "    def __init__(self, max_features, maxlen):\n",
        "        x = layers.Input((maxlen,))\n",
        "        h = layers.Embedding(max_features, 128)(x)\n",
        "        h = layers.LSTM(128, dropout=0.2, recurrent_dropout=0.2)(h)\n",
        "        y = layers.Dense(1, activation='sigmoid')(h)\n",
        "        super().__init__(x, y)\n",
        "\n",
        "        self.compile(loss='binary_crossentropy',\n",
        "                     optimizer='adam', metrics=['accuracy'])"
      ],
      "execution_count": null,
      "outputs": []
    },
    {
      "cell_type": "code",
      "metadata": {
        "id": "55d7TciQzhC0"
      },
      "source": [
        "# 학습 및 성능 평가\n",
        "class Machine:\n",
        "    def __init__(self, max_features=20000, maxlen=80):\n",
        "        self.data = Data(max_features, maxlen)\n",
        "        self.model = RNN_LSTM(max_features, maxlen)\n",
        "\n",
        "    def run(self, epochs=3, batch_size=32):\n",
        "        data = self.data\n",
        "        model = self.model\n",
        "        print('Training stage')\n",
        "        print('==================')\n",
        "        model.fit(data.x_train, data.y_train,\n",
        "                  batch_size=batch_size,\n",
        "                  epochs=epochs,\n",
        "                  validation_data=(data.x_test, data.y_test))\n",
        "        \n",
        "        score, acc = model.evaluate(data.x_test, data.y_test,\n",
        "                                    batch_size=batch_size)\n",
        "        print('Test performance: accuracy={0}, loss={1}'.format(acc, score))"
      ],
      "execution_count": null,
      "outputs": []
    },
    {
      "cell_type": "code",
      "metadata": {
        "colab": {
          "base_uri": "https://localhost:8080/"
        },
        "id": "OnyGeHw90atA",
        "outputId": "55cd964c-f8bc-4e5f-92df-2085fbc52e59"
      },
      "source": [
        "m = Machine()\n",
        "m.run()"
      ],
      "execution_count": null,
      "outputs": [
        {
          "output_type": "stream",
          "text": [
            "Downloading data from https://storage.googleapis.com/tensorflow/tf-keras-datasets/imdb.npz\n",
            "17465344/17464789 [==============================] - 0s 0us/step\n"
          ],
          "name": "stdout"
        },
        {
          "output_type": "stream",
          "text": [
            "<string>:6: VisibleDeprecationWarning: Creating an ndarray from ragged nested sequences (which is a list-or-tuple of lists-or-tuples-or ndarrays with different lengths or shapes) is deprecated. If you meant to do this, you must specify 'dtype=object' when creating the ndarray\n",
            "/usr/local/lib/python3.7/dist-packages/tensorflow/python/keras/datasets/imdb.py:155: VisibleDeprecationWarning: Creating an ndarray from ragged nested sequences (which is a list-or-tuple of lists-or-tuples-or ndarrays with different lengths or shapes) is deprecated. If you meant to do this, you must specify 'dtype=object' when creating the ndarray\n",
            "  x_train, y_train = np.array(xs[:idx]), np.array(labels[:idx])\n",
            "/usr/local/lib/python3.7/dist-packages/tensorflow/python/keras/datasets/imdb.py:156: VisibleDeprecationWarning: Creating an ndarray from ragged nested sequences (which is a list-or-tuple of lists-or-tuples-or ndarrays with different lengths or shapes) is deprecated. If you meant to do this, you must specify 'dtype=object' when creating the ndarray\n",
            "  x_test, y_test = np.array(xs[idx:]), np.array(labels[idx:])\n"
          ],
          "name": "stderr"
        },
        {
          "output_type": "stream",
          "text": [
            "WARNING:tensorflow:Layer lstm will not use cuDNN kernels since it doesn't meet the criteria. It will use a generic GPU kernel as fallback when running on GPU.\n",
            "Training stage\n",
            "==================\n",
            "Epoch 1/3\n",
            "782/782 [==============================] - 278s 349ms/step - loss: 0.4250 - accuracy: 0.8038 - val_loss: 0.3953 - val_accuracy: 0.8324\n",
            "Epoch 2/3\n",
            "782/782 [==============================] - 271s 347ms/step - loss: 0.2579 - accuracy: 0.8965 - val_loss: 0.3846 - val_accuracy: 0.8349\n",
            "Epoch 3/3\n",
            "782/782 [==============================] - 271s 347ms/step - loss: 0.1652 - accuracy: 0.9378 - val_loss: 0.4713 - val_accuracy: 0.8296\n",
            "782/782 [==============================] - 17s 21ms/step - loss: 0.4713 - accuracy: 0.8296\n",
            "Test performance: accuracy=0.8295599818229675, loss=0.4712797701358795\n"
          ],
          "name": "stdout"
        }
      ]
    }
  ]
}