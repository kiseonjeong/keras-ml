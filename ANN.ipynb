{
  "nbformat": 4,
  "nbformat_minor": 0,
  "metadata": {
    "colab": {
      "name": "ANN.ipynb",
      "provenance": [],
      "collapsed_sections": [],
      "mount_file_id": "1hDWhAAjdc2hqujM1gcVkDjVd7j3aCG0q",
      "authorship_tag": "ABX9TyP4KIrxVk2TybNxY4G9LZKm",
      "include_colab_link": true
    },
    "kernelspec": {
      "name": "python3",
      "display_name": "Python 3"
    },
    "language_info": {
      "name": "python"
    }
  },
  "cells": [
    {
      "cell_type": "markdown",
      "metadata": {
        "id": "view-in-github",
        "colab_type": "text"
      },
      "source": [
        "<a href=\"https://colab.research.google.com/github/kiseonjeong/keras-ml/blob/cnn-cifar10/ANN.ipynb\" target=\"_parent\"><img src=\"https://colab.research.google.com/assets/colab-badge.svg\" alt=\"Open In Colab\"/></a>"
      ]
    },
    {
      "cell_type": "markdown",
      "metadata": {
        "id": "LE2_zw_oII_m"
      },
      "source": [
        "# 분류 문제"
      ]
    },
    {
      "cell_type": "code",
      "metadata": {
        "id": "xkHCqBcv-6pc"
      },
      "source": [
        "# 분류 ANN을 위한 인공지능 모델 구현\n",
        "from tensorflow.keras import layers, models"
      ],
      "execution_count": 1,
      "outputs": []
    },
    {
      "cell_type": "code",
      "metadata": {
        "id": "8aJkTsxRACGQ"
      },
      "source": [
        "# 분산 방식 모델링을 표현하는 함수형 구현\n",
        "def ANN_models_func(Nin, Nh, Nout):\n",
        "    x = layers.Input(shape=(Nin,))\n",
        "    h = layers.Activation('relu')(layers.Dense(Nh)(x))\n",
        "    y = layers.Activation('softmax')(layers.Dense(Nout)(h))\n",
        "    model = models.Model(x, y)\n",
        "    model.compile(loss='categorical_crossentropy', optimizer='adam', metrics=['accuracy'])\n",
        "\n",
        "    return model\n",
        "\n",
        "# 연쇄 방식 모델링을 포함하는 함수형 구현\n",
        "def ANN_seq_func(Nin, Nh, Nout):\n",
        "    model = models.Sequential()\n",
        "    model.add(layers.Dense(Nh, activation='relu', input_shape=(Nin,)))\n",
        "    model.add(layers.Dense(Nout, activation='softmax'))\n",
        "    model.compile(loss='categorical_crossentropy', optimizer='adam', metrics=['accuracy'])\n",
        "\n",
        "    return model\n",
        "\n",
        "# 분산 방식 모델링을 포함하는 객체지향형 구현\n",
        "class ANN_models_class(models.Model):\n",
        "    def __init__(self, Nin, Nh, Nout):\n",
        "        # Prepare network layers and activation functions\n",
        "        hidden = layers.Dense(Nh)\n",
        "        output = layers.Dense(Nout)\n",
        "        relu = layers.Activation('relu')\n",
        "        softmax = layers.Activation('softmax')\n",
        "\n",
        "        # Connect network elements\n",
        "        x = layers.Input(shape=(Nin,))\n",
        "        h = relu(hidden(x))\n",
        "        y = softmax(output(h))\n",
        "\n",
        "        super().__init__(x, y)\n",
        "        self.compile(loss='categorical_crossentropy', optimizer='adam', metrics=['accuracy'])\n",
        "\n",
        "# 연쇄 방식 모델링을 포함하는 객체지향형 구현\n",
        "class ANN_seq_class(models.Sequential):\n",
        "    def __init__(self, Nin, Nh, Nout):\n",
        "        super().__init__()\n",
        "        self.add(layers.Dense(Nh, activation='relu', input_shape=(Nin,)))\n",
        "        self.add(layers.Dense(Nout, activation='softmax'))\n",
        "        self.compile(loss='categorical_crossentropy', optimizer='adam', metrics=['accuracy'])"
      ],
      "execution_count": 2,
      "outputs": []
    },
    {
      "cell_type": "code",
      "metadata": {
        "id": "x0jiceROD2Z_"
      },
      "source": [
        "# 분류 ANN에 사용할 데이터 불러오기\n",
        "import numpy as np\n",
        "from tensorflow.keras import datasets, utils"
      ],
      "execution_count": 3,
      "outputs": []
    },
    {
      "cell_type": "code",
      "metadata": {
        "id": "AI80IOZbFcqh"
      },
      "source": [
        "def Data_func():\n",
        "    (X_train, y_train), (X_test, y_test) = datasets.mnist.load_data()\n",
        "\n",
        "    Y_train = utils.to_categorical(y_train)\n",
        "    Y_test = utils.to_categorical(y_test)\n",
        "    \n",
        "    L, W, H = X_train.shape\n",
        "    X_train = X_train.reshape(-1, W * H)\n",
        "    X_test = X_test.reshape(-1, W * H)\n",
        "\n",
        "    X_train = X_train / 255.0\n",
        "    X_test = X_test / 255.0\n",
        "\n",
        "    return (X_train, Y_train), (X_test, Y_test)"
      ],
      "execution_count": 4,
      "outputs": []
    },
    {
      "cell_type": "code",
      "metadata": {
        "id": "-DrjDDKpGUa5"
      },
      "source": [
        "%run 'drive/MyDrive/Colab Notebooks/Keras/skeras.ipynb'"
      ],
      "execution_count": 5,
      "outputs": []
    },
    {
      "cell_type": "code",
      "metadata": {
        "colab": {
          "base_uri": "https://localhost:8080/"
        },
        "id": "cp8yrsHIHGu-",
        "outputId": "06d129ff-497a-4d34-ad9e-d7ff618b8ae0"
      },
      "source": [
        "Nin = 784\n",
        "Nh = 100\n",
        "number_of_class = 10\n",
        "Nout = number_of_class\n",
        "\n",
        "model = ANN_seq_class(Nin, Nh, Nout)\n",
        "(X_train, Y_train), (X_test, Y_test) = Data_func()\n",
        "\n",
        "# Training\n",
        "history = model.fit(X_train, Y_train, epochs=15,\n",
        "                    batch_size=100, validation_split=0.2)\n",
        "performance_test = model.evaluate(X_test, Y_test, batch_size=100)\n",
        "print('Test Loss and Accuracy ->', performance_test)"
      ],
      "execution_count": 6,
      "outputs": [
        {
          "output_type": "stream",
          "text": [
            "Downloading data from https://storage.googleapis.com/tensorflow/tf-keras-datasets/mnist.npz\n",
            "11493376/11490434 [==============================] - 0s 0us/step\n",
            "Epoch 1/15\n",
            "480/480 [==============================] - 2s 3ms/step - loss: 0.3907 - accuracy: 0.8925 - val_loss: 0.2180 - val_accuracy: 0.9373\n",
            "Epoch 2/15\n",
            "480/480 [==============================] - 1s 3ms/step - loss: 0.1866 - accuracy: 0.9472 - val_loss: 0.1633 - val_accuracy: 0.9547\n",
            "Epoch 3/15\n",
            "480/480 [==============================] - 1s 3ms/step - loss: 0.1375 - accuracy: 0.9604 - val_loss: 0.1348 - val_accuracy: 0.9613\n",
            "Epoch 4/15\n",
            "480/480 [==============================] - 1s 3ms/step - loss: 0.1102 - accuracy: 0.9677 - val_loss: 0.1184 - val_accuracy: 0.9661\n",
            "Epoch 5/15\n",
            "480/480 [==============================] - 1s 3ms/step - loss: 0.0902 - accuracy: 0.9739 - val_loss: 0.1100 - val_accuracy: 0.9673\n",
            "Epoch 6/15\n",
            "480/480 [==============================] - 1s 3ms/step - loss: 0.0766 - accuracy: 0.9777 - val_loss: 0.1048 - val_accuracy: 0.9693\n",
            "Epoch 7/15\n",
            "480/480 [==============================] - 1s 3ms/step - loss: 0.0659 - accuracy: 0.9805 - val_loss: 0.0986 - val_accuracy: 0.9705\n",
            "Epoch 8/15\n",
            "480/480 [==============================] - 1s 3ms/step - loss: 0.0562 - accuracy: 0.9837 - val_loss: 0.0960 - val_accuracy: 0.9716\n",
            "Epoch 9/15\n",
            "480/480 [==============================] - 1s 3ms/step - loss: 0.0475 - accuracy: 0.9867 - val_loss: 0.0952 - val_accuracy: 0.9722\n",
            "Epoch 10/15\n",
            "480/480 [==============================] - 1s 3ms/step - loss: 0.0418 - accuracy: 0.9882 - val_loss: 0.0957 - val_accuracy: 0.9718\n",
            "Epoch 11/15\n",
            "480/480 [==============================] - 1s 3ms/step - loss: 0.0363 - accuracy: 0.9898 - val_loss: 0.0888 - val_accuracy: 0.9729\n",
            "Epoch 12/15\n",
            "480/480 [==============================] - 1s 3ms/step - loss: 0.0309 - accuracy: 0.9920 - val_loss: 0.0924 - val_accuracy: 0.9732\n",
            "Epoch 13/15\n",
            "480/480 [==============================] - 1s 3ms/step - loss: 0.0271 - accuracy: 0.9930 - val_loss: 0.0988 - val_accuracy: 0.9712\n",
            "Epoch 14/15\n",
            "480/480 [==============================] - 1s 3ms/step - loss: 0.0234 - accuracy: 0.9942 - val_loss: 0.0941 - val_accuracy: 0.9737\n",
            "Epoch 15/15\n",
            "480/480 [==============================] - 1s 3ms/step - loss: 0.0200 - accuracy: 0.9952 - val_loss: 0.0933 - val_accuracy: 0.9732\n",
            "100/100 [==============================] - 0s 1ms/step - loss: 0.0830 - accuracy: 0.9759\n",
            "Test Loss and Accuracy -> [0.08303791284561157, 0.9758999943733215]\n"
          ],
          "name": "stdout"
        }
      ]
    },
    {
      "cell_type": "code",
      "metadata": {
        "colab": {
          "base_uri": "https://localhost:8080/",
          "height": 545
        },
        "id": "3OX1gnl-H00h",
        "outputId": "7141ab1e-2604-4f6e-ab13-e972c13320a7"
      },
      "source": [
        "plot_loss(history)\n",
        "plt.show()\n",
        "plot_acc(history)\n",
        "plt.show()"
      ],
      "execution_count": 7,
      "outputs": [
        {
          "output_type": "display_data",
          "data": {
            "image/png": "[encoded data removed]",
            "text/plain": [
              "<Figure size 432x288 with 1 Axes>"
            ]
          },
          "metadata": {
            "tags": [],
            "needs_background": "light"
          }
        },
        {
          "output_type": "display_data",
          "data": {
            "image/png": "[encoded data removed]",
            "text/plain": [
              "<Figure size 432x288 with 1 Axes>"
            ]
          },
          "metadata": {
            "tags": [],
            "needs_background": "light"
          }
        }
      ]
    },
    {
      "cell_type": "markdown",
      "metadata": {
        "id": "gTXNP8xnIM98"
      },
      "source": [
        "# 회귀 문제"
      ]
    },
    {
      "cell_type": "code",
      "metadata": {
        "id": "g1xwNURLIPrx"
      },
      "source": [
        "# 회귀 ANN 모델링\n",
        "class ANN(models.Model):\n",
        "    def __init__(self, Nin, Nh, Nout):\n",
        "        # Prepare network layers and activate functions\n",
        "        hidden = layers.Dense(Nh)\n",
        "        output = layers.Dense(Nout)\n",
        "        relu = layers.Activation('relu')\n",
        "\n",
        "        # Connect network elements\n",
        "        x = layers.Input(shape=(Nin,))\n",
        "        h = relu(hidden(x))\n",
        "        y = output(h)\n",
        "\n",
        "        super().__init__(x, y)\n",
        "\n",
        "        self.compile(loss='mse', optimizer='sgd')"
      ],
      "execution_count": 8,
      "outputs": []
    },
    {
      "cell_type": "code",
      "metadata": {
        "id": "HBalBoIrsUMk"
      },
      "source": [
        "# 학습과 평가용 데이터 불러오기\n",
        "from sklearn import preprocessing\n",
        "\n",
        "def Data_func():\n",
        "    (X_train, y_train), (X_test, y_test) = datasets.boston_housing.load_data()\n",
        "    scaler = preprocessing.MinMaxScaler()\n",
        "    X_train = scaler.fit_transform(X_train)\n",
        "    X_test = scaler.transform(X_test)\n",
        "\n",
        "    return (X_train, y_train), (X_test, y_test)"
      ],
      "execution_count": 9,
      "outputs": []
    },
    {
      "cell_type": "code",
      "metadata": {
        "colab": {
          "base_uri": "https://localhost:8080/"
        },
        "id": "vC-XwtBgsZUt",
        "outputId": "3baa2499-9220-4957-a509-2400095e86d5"
      },
      "source": [
        "Nin = 13\n",
        "Nh = 5\n",
        "Nout = 1\n",
        "\n",
        "model = ANN(Nin, Nh, Nout)\n",
        "(X_train, y_train), (X_test, y_test) = Data_func()\n",
        "\n",
        "history = model.fit(X_train, y_train, epochs=100,\n",
        "                    batch_size=100, validation_split=0.2,\n",
        "                    verbose=2)\n",
        "\n",
        "performance_test = model.evaluate(X_test, y_test, batch_size=100)\n",
        "print('\\nTest Loss -> {:.2f}'.format(performance_test))"
      ],
      "execution_count": 10,
      "outputs": [
        {
          "output_type": "stream",
          "text": [
            "Downloading data from https://storage.googleapis.com/tensorflow/tf-keras-datasets/boston_housing.npz\n",
            "57344/57026 [==============================] - 0s 0us/step\n",
            "Epoch 1/100\n",
            "4/4 - 0s - loss: 364.4490 - val_loss: 93.6656\n",
            "Epoch 2/100\n",
            "4/4 - 0s - loss: 84.6561 - val_loss: 72.3498\n",
            "Epoch 3/100\n",
            "4/4 - 0s - loss: 72.5288 - val_loss: 64.3504\n",
            "Epoch 4/100\n",
            "4/4 - 0s - loss: 55.1925 - val_loss: 113.8663\n",
            "Epoch 5/100\n",
            "4/4 - 0s - loss: 59.0270 - val_loss: 49.7581\n",
            "Epoch 6/100\n",
            "4/4 - 0s - loss: 46.8429 - val_loss: 61.0618\n",
            "Epoch 7/100\n",
            "4/4 - 0s - loss: 46.1564 - val_loss: 49.6869\n",
            "Epoch 8/100\n",
            "4/4 - 0s - loss: 40.3900 - val_loss: 69.6158\n",
            "Epoch 9/100\n",
            "4/4 - 0s - loss: 63.6748 - val_loss: 63.3038\n",
            "Epoch 10/100\n",
            "4/4 - 0s - loss: 43.0230 - val_loss: 74.6736\n",
            "Epoch 11/100\n",
            "4/4 - 0s - loss: 53.4849 - val_loss: 52.8582\n",
            "Epoch 12/100\n",
            "4/4 - 0s - loss: 37.9076 - val_loss: 34.2646\n",
            "Epoch 13/100\n",
            "4/4 - 0s - loss: 45.9319 - val_loss: 34.4032\n",
            "Epoch 14/100\n",
            "4/4 - 0s - loss: 36.6921 - val_loss: 39.2352\n",
            "Epoch 15/100\n",
            "4/4 - 0s - loss: 45.4841 - val_loss: 38.4415\n",
            "Epoch 16/100\n",
            "4/4 - 0s - loss: 44.2476 - val_loss: 43.3107\n",
            "Epoch 17/100\n",
            "4/4 - 0s - loss: 49.7564 - val_loss: 29.1397\n",
            "Epoch 18/100\n",
            "4/4 - 0s - loss: 29.0547 - val_loss: 30.0618\n",
            "Epoch 19/100\n",
            "4/4 - 0s - loss: 28.0787 - val_loss: 43.3335\n",
            "Epoch 20/100\n",
            "4/4 - 0s - loss: 38.7350 - val_loss: 67.5780\n",
            "Epoch 21/100\n",
            "4/4 - 0s - loss: 44.7280 - val_loss: 36.0735\n",
            "Epoch 22/100\n",
            "4/4 - 0s - loss: 32.3331 - val_loss: 48.3874\n",
            "Epoch 23/100\n",
            "4/4 - 0s - loss: 30.7381 - val_loss: 51.4348\n",
            "Epoch 24/100\n",
            "4/4 - 0s - loss: 60.7420 - val_loss: 27.3183\n",
            "Epoch 25/100\n",
            "4/4 - 0s - loss: 26.1503 - val_loss: 25.4293\n",
            "Epoch 26/100\n",
            "4/4 - 0s - loss: 27.4346 - val_loss: 71.3978\n",
            "Epoch 27/100\n",
            "4/4 - 0s - loss: 63.2199 - val_loss: 37.5958\n",
            "Epoch 28/100\n",
            "4/4 - 0s - loss: 45.4649 - val_loss: 30.6611\n",
            "Epoch 29/100\n",
            "4/4 - 0s - loss: 31.8361 - val_loss: 34.7787\n",
            "Epoch 30/100\n",
            "4/4 - 0s - loss: 35.6454 - val_loss: 23.5585\n",
            "Epoch 31/100\n",
            "4/4 - 0s - loss: 26.1884 - val_loss: 30.9960\n",
            "Epoch 32/100\n",
            "4/4 - 0s - loss: 34.9295 - val_loss: 60.9391\n",
            "Epoch 33/100\n",
            "4/4 - 0s - loss: 54.0601 - val_loss: 43.3921\n",
            "Epoch 34/100\n",
            "4/4 - 0s - loss: 44.1755 - val_loss: 24.2922\n",
            "Epoch 35/100\n",
            "4/4 - 0s - loss: 30.7215 - val_loss: 23.4902\n",
            "Epoch 36/100\n",
            "4/4 - 0s - loss: 26.1459 - val_loss: 26.4084\n",
            "Epoch 37/100\n",
            "4/4 - 0s - loss: 28.0879 - val_loss: 26.1812\n",
            "Epoch 38/100\n",
            "4/4 - 0s - loss: 28.8467 - val_loss: 41.0414\n",
            "Epoch 39/100\n",
            "4/4 - 0s - loss: 41.5677 - val_loss: 27.8248\n",
            "Epoch 40/100\n",
            "4/4 - 0s - loss: 26.7348 - val_loss: 40.8427\n",
            "Epoch 41/100\n",
            "4/4 - 0s - loss: 41.6233 - val_loss: 27.3883\n",
            "Epoch 42/100\n",
            "4/4 - 0s - loss: 30.8128 - val_loss: 22.5163\n",
            "Epoch 43/100\n",
            "4/4 - 0s - loss: 23.2602 - val_loss: 30.0443\n",
            "Epoch 44/100\n",
            "4/4 - 0s - loss: 28.5520 - val_loss: 22.4434\n",
            "Epoch 45/100\n",
            "4/4 - 0s - loss: 22.1355 - val_loss: 23.7697\n",
            "Epoch 46/100\n",
            "4/4 - 0s - loss: 22.5602 - val_loss: 30.8871\n",
            "Epoch 47/100\n",
            "4/4 - 0s - loss: 24.6570 - val_loss: 24.8328\n",
            "Epoch 48/100\n",
            "4/4 - 0s - loss: 22.4384 - val_loss: 21.9330\n",
            "Epoch 49/100\n",
            "4/4 - 0s - loss: 24.7467 - val_loss: 21.5456\n",
            "Epoch 50/100\n",
            "4/4 - 0s - loss: 23.1393 - val_loss: 22.2352\n",
            "Epoch 51/100\n",
            "4/4 - 0s - loss: 21.2879 - val_loss: 24.7189\n",
            "Epoch 52/100\n",
            "4/4 - 0s - loss: 24.7964 - val_loss: 21.7218\n",
            "Epoch 53/100\n",
            "4/4 - 0s - loss: 21.8935 - val_loss: 25.8816\n",
            "Epoch 54/100\n",
            "4/4 - 0s - loss: 24.1947 - val_loss: 22.2655\n",
            "Epoch 55/100\n",
            "4/4 - 0s - loss: 27.5685 - val_loss: 22.4437\n",
            "Epoch 56/100\n",
            "4/4 - 0s - loss: 22.4467 - val_loss: 30.1212\n",
            "Epoch 57/100\n",
            "4/4 - 0s - loss: 22.5516 - val_loss: 23.3668\n",
            "Epoch 58/100\n",
            "4/4 - 0s - loss: 25.1777 - val_loss: 25.8780\n",
            "Epoch 59/100\n",
            "4/4 - 0s - loss: 20.9303 - val_loss: 20.9150\n",
            "Epoch 60/100\n",
            "4/4 - 0s - loss: 20.6175 - val_loss: 36.7130\n",
            "Epoch 61/100\n",
            "4/4 - 0s - loss: 33.9594 - val_loss: 26.3452\n",
            "Epoch 62/100\n",
            "4/4 - 0s - loss: 36.1665 - val_loss: 31.5858\n",
            "Epoch 63/100\n",
            "4/4 - 0s - loss: 32.5216 - val_loss: 41.4466\n",
            "Epoch 64/100\n",
            "4/4 - 0s - loss: 32.6968 - val_loss: 32.2840\n",
            "Epoch 65/100\n",
            "4/4 - 0s - loss: 30.5309 - val_loss: 25.4437\n",
            "Epoch 66/100\n",
            "4/4 - 0s - loss: 20.9558 - val_loss: 25.3148\n",
            "Epoch 67/100\n",
            "4/4 - 0s - loss: 21.1461 - val_loss: 40.7710\n",
            "Epoch 68/100\n",
            "4/4 - 0s - loss: 36.1273 - val_loss: 21.7661\n",
            "Epoch 69/100\n",
            "4/4 - 0s - loss: 23.3810 - val_loss: 20.0807\n",
            "Epoch 70/100\n",
            "4/4 - 0s - loss: 20.8701 - val_loss: 20.5027\n",
            "Epoch 71/100\n",
            "4/4 - 0s - loss: 20.9302 - val_loss: 63.5784\n",
            "Epoch 72/100\n",
            "4/4 - 0s - loss: 51.9407 - val_loss: 27.2089\n",
            "Epoch 73/100\n",
            "4/4 - 0s - loss: 31.3323 - val_loss: 19.0705\n",
            "Epoch 74/100\n",
            "4/4 - 0s - loss: 22.6211 - val_loss: 24.2617\n",
            "Epoch 75/100\n",
            "4/4 - 0s - loss: 22.3110 - val_loss: 20.1753\n",
            "Epoch 76/100\n",
            "4/4 - 0s - loss: 21.4831 - val_loss: 26.3426\n",
            "Epoch 77/100\n",
            "4/4 - 0s - loss: 26.8750 - val_loss: 19.6957\n",
            "Epoch 78/100\n",
            "4/4 - 0s - loss: 22.0010 - val_loss: 21.0643\n",
            "Epoch 79/100\n",
            "4/4 - 0s - loss: 26.3103 - val_loss: 56.4690\n",
            "Epoch 80/100\n",
            "4/4 - 0s - loss: 36.2048 - val_loss: 29.5096\n",
            "Epoch 81/100\n",
            "4/4 - 0s - loss: 28.0013 - val_loss: 20.3104\n",
            "Epoch 82/100\n",
            "4/4 - 0s - loss: 20.5289 - val_loss: 18.3955\n",
            "Epoch 83/100\n",
            "4/4 - 0s - loss: 19.5056 - val_loss: 18.7012\n",
            "Epoch 84/100\n",
            "4/4 - 0s - loss: 19.1080 - val_loss: 35.9420\n",
            "Epoch 85/100\n",
            "4/4 - 0s - loss: 30.6472 - val_loss: 19.0438\n",
            "Epoch 86/100\n",
            "4/4 - 0s - loss: 20.7142 - val_loss: 19.2367\n",
            "Epoch 87/100\n",
            "4/4 - 0s - loss: 18.6921 - val_loss: 19.2282\n",
            "Epoch 88/100\n",
            "4/4 - 0s - loss: 20.7770 - val_loss: 18.2972\n",
            "Epoch 89/100\n",
            "4/4 - 0s - loss: 21.0622 - val_loss: 18.9472\n",
            "Epoch 90/100\n",
            "4/4 - 0s - loss: 18.2433 - val_loss: 17.9791\n",
            "Epoch 91/100\n",
            "4/4 - 0s - loss: 19.1208 - val_loss: 17.4894\n",
            "Epoch 92/100\n",
            "4/4 - 0s - loss: 18.0602 - val_loss: 17.8249\n",
            "Epoch 93/100\n",
            "4/4 - 0s - loss: 20.8962 - val_loss: 22.0428\n",
            "Epoch 94/100\n",
            "4/4 - 0s - loss: 23.6116 - val_loss: 22.8219\n",
            "Epoch 95/100\n",
            "4/4 - 0s - loss: 21.6045 - val_loss: 23.7850\n",
            "Epoch 96/100\n",
            "4/4 - 0s - loss: 20.4666 - val_loss: 22.0177\n",
            "Epoch 97/100\n",
            "4/4 - 0s - loss: 25.5857 - val_loss: 21.5883\n",
            "Epoch 98/100\n",
            "4/4 - 0s - loss: 18.3641 - val_loss: 20.1453\n",
            "Epoch 99/100\n",
            "4/4 - 0s - loss: 22.5197 - val_loss: 16.8398\n",
            "Epoch 100/100\n",
            "4/4 - 0s - loss: 19.0827 - val_loss: 20.9476\n",
            "2/2 [==============================] - 0s 4ms/step - loss: 25.6002\n",
            "\n",
            "Test Loss -> 25.60\n"
          ],
          "name": "stdout"
        }
      ]
    },
    {
      "cell_type": "code",
      "metadata": {
        "colab": {
          "base_uri": "https://localhost:8080/",
          "height": 279
        },
        "id": "V8ipLPHRs641",
        "outputId": "3d0c9377-7412-4ff5-b60c-71bcf6af3423"
      },
      "source": [
        "plot_loss(history)\n",
        "plt.show()"
      ],
      "execution_count": 11,
      "outputs": [
        {
          "output_type": "display_data",
          "data": {
            "image/png": "[encoded data removed]",
            "text/plain": [
              "<Figure size 432x288 with 1 Axes>"
            ]
          },
          "metadata": {
            "tags": [],
            "needs_background": "light"
          }
        }
      ]
    }
  ]
}