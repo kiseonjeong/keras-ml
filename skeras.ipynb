{
  "nbformat": 4,
  "nbformat_minor": 0,
  "metadata": {
    "colab": {
      "name": "skeras.ipynb",
      "provenance": [],
      "collapsed_sections": [],
      "toc_visible": true,
      "authorship_tag": "ABX9TyNM7qd3OTum+jGtjTATR0o5",
      "include_colab_link": true
    },
    "kernelspec": {
      "name": "python3",
      "display_name": "Python 3"
    },
    "language_info": {
      "name": "python"
    }
  },
  "cells": [
    {
      "cell_type": "markdown",
      "metadata": {
        "id": "view-in-github",
        "colab_type": "text"
      },
      "source": [
        "<a href=\"https://colab.research.google.com/github/kiseonjeong/keras-ml/blob/cnn-mnist/skeras.ipynb\" target=\"_parent\"><img src=\"https://colab.research.google.com/assets/colab-badge.svg\" alt=\"Open In Colab\"/></a>"
      ]
    },
    {
      "cell_type": "code",
      "metadata": {
        "id": "Lpw2ZKDw67oW"
      },
      "source": [
        "import numpy as np\n",
        "import matplotlib.pyplot as plt\n",
        "import os\n",
        "\n",
        "import matplotlib\n",
        "\n",
        "def save_history_history(fname, history_history, fold=''):\n",
        "    np.save(os.path.join(fold, fname), history_history)\n",
        "\n",
        "\n",
        "def load_history_history(fname, fold=''):\n",
        "    history_history = np.load(os.path.join(fold, fname)).item(0)\n",
        "    return history_history\n",
        "\n",
        "\n",
        "def plot_acc(history, title=None):\n",
        "    # summarize history for accuracy\n",
        "    if not isinstance(history, dict):\n",
        "        history = history.history\n",
        "\n",
        "    plt.plot(history['accuracy'])\n",
        "    plt.plot(history['val_accuracy'])\n",
        "    if title is not None:\n",
        "        plt.title(title)\n",
        "    plt.ylabel('Accuracy')\n",
        "    plt.xlabel('Epoch')\n",
        "    plt.legend(['Training data', 'Validation data'], loc=0)\n",
        "    # plt.show()\n",
        "\n",
        "\n",
        "def plot_loss(history, title=None):\n",
        "    # summarize history for loss\n",
        "    if not isinstance(history, dict):\n",
        "        history = history.history\n",
        "\n",
        "    plt.plot(history['loss'])\n",
        "    plt.plot(history['val_loss'])\n",
        "    if title is not None:\n",
        "        plt.title(title)\n",
        "    plt.ylabel('Loss')\n",
        "    plt.xlabel('Epoch')\n",
        "    plt.legend(['Training data', 'Validation data'], loc=0)\n",
        "    # plt.show()\n",
        "\n",
        "\n",
        "def plot_history(history):\n",
        "    plt.figure(figsize=(15, 5))\n",
        "    plt.subplot(1, 2, 1)\n",
        "    plot_acc(history)\n",
        "    plt.subplot(1, 2, 2)\n",
        "    plot_loss(history)\n",
        "\n",
        "    \n",
        "def plot_loss_acc(history):\n",
        "    plot_loss(history, '(a) Loss trajectory')\n",
        "    plt.show()            \n",
        "    plot_acc(history, '(b) Accracy trajectory')\n",
        "    plt.show()\n",
        "    \n",
        "    \n",
        "def plot_acc_loss(history):\n",
        "    plot_acc(history, '(a) Accracy trajectory')\n",
        "    plt.show()\n",
        "    plot_loss(history, '(b) Loss trajectory')\n",
        "    plt.show()            \n",
        "    "
      ],
      "execution_count": 1,
      "outputs": []
    }
  ]
}